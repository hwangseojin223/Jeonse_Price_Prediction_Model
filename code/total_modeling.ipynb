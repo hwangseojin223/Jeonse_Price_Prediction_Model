{
 "cells": [
  {
   "cell_type": "code",
   "execution_count": 1,
   "id": "0e143ec3",
   "metadata": {},
   "outputs": [],
   "source": [
    "# 추출한 데이터로 여러 모델링 진행\n",
    "# 범주형 변수는 원핫인코딩 진행.\n",
    "# 선형 회귀, 릿지, 라쏘, 엘라스틱넷, 랜덤포레스트, XGBoost, Lightgbm, DecisionTree\n",
    "# 로그변환, 표준화, 이상치제거 실행별로 RMSE 값 차이 비교"
   ]
  },
  {
   "cell_type": "code",
   "execution_count": 2,
   "id": "efa864df",
   "metadata": {},
   "outputs": [],
   "source": [
    "# 각 모델별로 필요한 패키지\n",
    "import warnings\n",
    "warnings.filterwarnings('ignore')\n",
    "import pandas as pd\n",
    "import numpy as np\n",
    "import seaborn as sns\n",
    "import matplotlib.pyplot as plt\n",
    "%matplotlib inline\n",
    "from sklearn.metrics import mean_squared_error\n",
    "from sklearn.model_selection import train_test_split\n",
    "from sklearn.model_selection import GridSearchCV\n",
    "from sklearn.preprocessing import StandardScaler\n",
    "\n",
    "# 선형회귀\n",
    "from sklearn.linear_model import LinearRegression, Ridge, Lasso\n",
    "\n",
    "# 의사결정나무\n",
    "from sklearn.tree import DecisionTreeRegressor\n",
    "\n",
    "# XGboost\n",
    "from xgboost import XGBRegressor\n",
    "\n",
    "# RandomForest\n",
    "from sklearn.ensemble import RandomForestRegressor\n",
    "\n",
    "# LightGBM\n",
    "from lightgbm import LGBMRegressor\n",
    "import lightgbm as lgb"
   ]
  },
  {
   "cell_type": "code",
   "execution_count": 3,
   "id": "d3920992",
   "metadata": {},
   "outputs": [],
   "source": [
    "import platform\n",
    "\n",
    "from matplotlib import font_manager, rc\n",
    "plt.rcParams['axes.unicode_minus'] = False\n",
    "\n",
    "if platform.system() == 'Darwin':  # 맥OS\n",
    "    rc('font', family='AppleGothic')\n",
    "elif platform.system() == 'Windows':  # 윈도우\n",
    "    path = \"c:/Windows/Fonts/malgun.ttf\"\n",
    "    font_name = font_manager.FontProperties(fname=path).get_name()\n",
    "    rc('font', family=font_name)\n",
    "else:\n",
    "    print('Unknown system...  sorry~~~')"
   ]
  },
  {
   "cell_type": "code",
   "execution_count": 4,
   "id": "4d0750be",
   "metadata": {},
   "outputs": [],
   "source": [
    "# 파일 불러오기\n",
    "df_org = pd.read_csv(\"./df.csv\")"
   ]
  },
  {
   "cell_type": "code",
   "execution_count": 5,
   "id": "d56b8d62",
   "metadata": {},
   "outputs": [
    {
     "data": {
      "text/html": [
       "<div>\n",
       "<style scoped>\n",
       "    .dataframe tbody tr th:only-of-type {\n",
       "        vertical-align: middle;\n",
       "    }\n",
       "\n",
       "    .dataframe tbody tr th {\n",
       "        vertical-align: top;\n",
       "    }\n",
       "\n",
       "    .dataframe thead th {\n",
       "        text-align: right;\n",
       "    }\n",
       "</style>\n",
       "<table border=\"1\" class=\"dataframe\">\n",
       "  <thead>\n",
       "    <tr style=\"text-align: right;\">\n",
       "      <th></th>\n",
       "      <th>date</th>\n",
       "      <th>build_year</th>\n",
       "      <th>dong</th>\n",
       "      <th>floor</th>\n",
       "      <th>use_area</th>\n",
       "      <th>res_cnt</th>\n",
       "      <th>total_deposit</th>\n",
       "      <th>cctv_cnt</th>\n",
       "      <th>school_dis</th>\n",
       "      <th>sub_dis</th>\n",
       "    </tr>\n",
       "  </thead>\n",
       "  <tbody>\n",
       "    <tr>\n",
       "      <th>0</th>\n",
       "      <td>8</td>\n",
       "      <td>37</td>\n",
       "      <td>하왕십리동</td>\n",
       "      <td>3</td>\n",
       "      <td>39.70</td>\n",
       "      <td>36</td>\n",
       "      <td>15000</td>\n",
       "      <td>268</td>\n",
       "      <td>0.104621</td>\n",
       "      <td>0.106753</td>\n",
       "    </tr>\n",
       "    <tr>\n",
       "      <th>1</th>\n",
       "      <td>8</td>\n",
       "      <td>11</td>\n",
       "      <td>하왕십리동</td>\n",
       "      <td>4</td>\n",
       "      <td>13.97</td>\n",
       "      <td>36</td>\n",
       "      <td>8714</td>\n",
       "      <td>268</td>\n",
       "      <td>0.104621</td>\n",
       "      <td>0.153176</td>\n",
       "    </tr>\n",
       "    <tr>\n",
       "      <th>2</th>\n",
       "      <td>8</td>\n",
       "      <td>46</td>\n",
       "      <td>홍익동</td>\n",
       "      <td>3</td>\n",
       "      <td>85.36</td>\n",
       "      <td>51</td>\n",
       "      <td>17000</td>\n",
       "      <td>81</td>\n",
       "      <td>0.180476</td>\n",
       "      <td>0.441108</td>\n",
       "    </tr>\n",
       "    <tr>\n",
       "      <th>3</th>\n",
       "      <td>8</td>\n",
       "      <td>9</td>\n",
       "      <td>홍익동</td>\n",
       "      <td>2</td>\n",
       "      <td>27.45</td>\n",
       "      <td>51</td>\n",
       "      <td>19000</td>\n",
       "      <td>81</td>\n",
       "      <td>0.180476</td>\n",
       "      <td>0.283358</td>\n",
       "    </tr>\n",
       "    <tr>\n",
       "      <th>4</th>\n",
       "      <td>8</td>\n",
       "      <td>11</td>\n",
       "      <td>도선동</td>\n",
       "      <td>5</td>\n",
       "      <td>17.56</td>\n",
       "      <td>75</td>\n",
       "      <td>11714</td>\n",
       "      <td>66</td>\n",
       "      <td>0.038938</td>\n",
       "      <td>0.382163</td>\n",
       "    </tr>\n",
       "  </tbody>\n",
       "</table>\n",
       "</div>"
      ],
      "text/plain": [
       "   date  build_year   dong  floor  use_area  res_cnt  total_deposit  cctv_cnt  \\\n",
       "0     8          37  하왕십리동      3     39.70       36          15000       268   \n",
       "1     8          11  하왕십리동      4     13.97       36           8714       268   \n",
       "2     8          46    홍익동      3     85.36       51          17000        81   \n",
       "3     8           9    홍익동      2     27.45       51          19000        81   \n",
       "4     8          11    도선동      5     17.56       75          11714        66   \n",
       "\n",
       "   school_dis   sub_dis  \n",
       "0    0.104621  0.106753  \n",
       "1    0.104621  0.153176  \n",
       "2    0.180476  0.441108  \n",
       "3    0.180476  0.283358  \n",
       "4    0.038938  0.382163  "
      ]
     },
     "execution_count": 5,
     "metadata": {},
     "output_type": "execute_result"
    }
   ],
   "source": [
    "# house_df = house_df_org 데이터가 저장된 주소만을 복사하기 때문에 얕은 복사 = 주소 만을 공유\n",
    "seongdong = df_org.copy() # 깊은 복사\n",
    "seongdong.head()"
   ]
  },
  {
   "cell_type": "markdown",
   "id": "03796de3",
   "metadata": {},
   "source": [
    "# **기본 데이터로 학습**"
   ]
  },
  {
   "cell_type": "code",
   "execution_count": 6,
   "id": "5ba07f14",
   "metadata": {},
   "outputs": [
    {
     "name": "stdout",
     "output_type": "stream",
     "text": [
      "<class 'pandas.core.frame.DataFrame'>\n",
      "RangeIndex: 12211 entries, 0 to 12210\n",
      "Data columns (total 10 columns):\n",
      " #   Column         Non-Null Count  Dtype  \n",
      "---  ------         --------------  -----  \n",
      " 0   date           12211 non-null  int64  \n",
      " 1   build_year     12211 non-null  int64  \n",
      " 2   dong           12211 non-null  object \n",
      " 3   floor          12211 non-null  int64  \n",
      " 4   use_area       12211 non-null  float64\n",
      " 5   res_cnt        12211 non-null  int64  \n",
      " 6   total_deposit  12211 non-null  int64  \n",
      " 7   cctv_cnt       12211 non-null  int64  \n",
      " 8   school_dis     12211 non-null  float64\n",
      " 9   sub_dis        12211 non-null  float64\n",
      "dtypes: float64(3), int64(6), object(1)\n",
      "memory usage: 954.1+ KB\n"
     ]
    }
   ],
   "source": [
    "# 데이터 확인\n",
    "seongdong.info()"
   ]
  },
  {
   "cell_type": "code",
   "execution_count": 7,
   "id": "00c3f311",
   "metadata": {},
   "outputs": [
    {
     "name": "stdout",
     "output_type": "stream",
     "text": [
      "데이터 세트의 Shape: (12211, 10)\n",
      "\n",
      "전체 feature 들의 type \n",
      " int64      6\n",
      "float64    3\n",
      "object     1\n",
      "Name: count, dtype: int64\n"
     ]
    }
   ],
   "source": [
    "print('데이터 세트의 Shape:', seongdong.shape) # 전체 몇 행, 몇 열\n",
    "print('\\n전체 feature 들의 type \\n',seongdong.dtypes.value_counts()) # type 을 확인\n",
    "\n",
    "# Null 컬럼 확인\n",
    "isnull_series = seongdong.isnull().sum()"
   ]
  },
  {
   "cell_type": "code",
   "execution_count": 8,
   "id": "9a070f7b",
   "metadata": {},
   "outputs": [],
   "source": [
    "#원래값 저장\n",
    "original_SalePrince = seongdong['total_deposit']"
   ]
  },
  {
   "cell_type": "code",
   "execution_count": 9,
   "id": "5688355f",
   "metadata": {},
   "outputs": [
    {
     "name": "stdout",
     "output_type": "stream",
     "text": [
      "get_dummies() 수행 전 데이터 Shape: (12211, 10)\n",
      "get_dummies() 수행 후 데이터 Shape: (12211, 26)\n"
     ]
    }
   ],
   "source": [
    "# 더미화\n",
    "print('get_dummies() 수행 전 데이터 Shape:', seongdong.shape)\n",
    "seongdong_ohe = pd.get_dummies(seongdong) # one-hot encoding 수행\n",
    "\n",
    "print('get_dummies() 수행 후 데이터 Shape:', seongdong_ohe.shape)"
   ]
  },
  {
   "cell_type": "code",
   "execution_count": 10,
   "id": "d0bbda9a",
   "metadata": {},
   "outputs": [
    {
     "data": {
      "text/html": [
       "<div>\n",
       "<style scoped>\n",
       "    .dataframe tbody tr th:only-of-type {\n",
       "        vertical-align: middle;\n",
       "    }\n",
       "\n",
       "    .dataframe tbody tr th {\n",
       "        vertical-align: top;\n",
       "    }\n",
       "\n",
       "    .dataframe thead th {\n",
       "        text-align: right;\n",
       "    }\n",
       "</style>\n",
       "<table border=\"1\" class=\"dataframe\">\n",
       "  <thead>\n",
       "    <tr style=\"text-align: right;\">\n",
       "      <th></th>\n",
       "      <th>date</th>\n",
       "      <th>build_year</th>\n",
       "      <th>floor</th>\n",
       "      <th>use_area</th>\n",
       "      <th>res_cnt</th>\n",
       "      <th>total_deposit</th>\n",
       "      <th>cctv_cnt</th>\n",
       "      <th>school_dis</th>\n",
       "      <th>sub_dis</th>\n",
       "      <th>dong_금호동1가</th>\n",
       "      <th>...</th>\n",
       "      <th>dong_상왕십리동</th>\n",
       "      <th>dong_성수동1가</th>\n",
       "      <th>dong_성수동2가</th>\n",
       "      <th>dong_송정동</th>\n",
       "      <th>dong_옥수동</th>\n",
       "      <th>dong_용답동</th>\n",
       "      <th>dong_응봉동</th>\n",
       "      <th>dong_하왕십리동</th>\n",
       "      <th>dong_행당동</th>\n",
       "      <th>dong_홍익동</th>\n",
       "    </tr>\n",
       "  </thead>\n",
       "  <tbody>\n",
       "    <tr>\n",
       "      <th>0</th>\n",
       "      <td>8</td>\n",
       "      <td>37</td>\n",
       "      <td>3</td>\n",
       "      <td>39.70</td>\n",
       "      <td>36</td>\n",
       "      <td>15000</td>\n",
       "      <td>268</td>\n",
       "      <td>0.104621</td>\n",
       "      <td>0.106753</td>\n",
       "      <td>False</td>\n",
       "      <td>...</td>\n",
       "      <td>False</td>\n",
       "      <td>False</td>\n",
       "      <td>False</td>\n",
       "      <td>False</td>\n",
       "      <td>False</td>\n",
       "      <td>False</td>\n",
       "      <td>False</td>\n",
       "      <td>True</td>\n",
       "      <td>False</td>\n",
       "      <td>False</td>\n",
       "    </tr>\n",
       "    <tr>\n",
       "      <th>1</th>\n",
       "      <td>8</td>\n",
       "      <td>11</td>\n",
       "      <td>4</td>\n",
       "      <td>13.97</td>\n",
       "      <td>36</td>\n",
       "      <td>8714</td>\n",
       "      <td>268</td>\n",
       "      <td>0.104621</td>\n",
       "      <td>0.153176</td>\n",
       "      <td>False</td>\n",
       "      <td>...</td>\n",
       "      <td>False</td>\n",
       "      <td>False</td>\n",
       "      <td>False</td>\n",
       "      <td>False</td>\n",
       "      <td>False</td>\n",
       "      <td>False</td>\n",
       "      <td>False</td>\n",
       "      <td>True</td>\n",
       "      <td>False</td>\n",
       "      <td>False</td>\n",
       "    </tr>\n",
       "    <tr>\n",
       "      <th>2</th>\n",
       "      <td>8</td>\n",
       "      <td>46</td>\n",
       "      <td>3</td>\n",
       "      <td>85.36</td>\n",
       "      <td>51</td>\n",
       "      <td>17000</td>\n",
       "      <td>81</td>\n",
       "      <td>0.180476</td>\n",
       "      <td>0.441108</td>\n",
       "      <td>False</td>\n",
       "      <td>...</td>\n",
       "      <td>False</td>\n",
       "      <td>False</td>\n",
       "      <td>False</td>\n",
       "      <td>False</td>\n",
       "      <td>False</td>\n",
       "      <td>False</td>\n",
       "      <td>False</td>\n",
       "      <td>False</td>\n",
       "      <td>False</td>\n",
       "      <td>True</td>\n",
       "    </tr>\n",
       "    <tr>\n",
       "      <th>3</th>\n",
       "      <td>8</td>\n",
       "      <td>9</td>\n",
       "      <td>2</td>\n",
       "      <td>27.45</td>\n",
       "      <td>51</td>\n",
       "      <td>19000</td>\n",
       "      <td>81</td>\n",
       "      <td>0.180476</td>\n",
       "      <td>0.283358</td>\n",
       "      <td>False</td>\n",
       "      <td>...</td>\n",
       "      <td>False</td>\n",
       "      <td>False</td>\n",
       "      <td>False</td>\n",
       "      <td>False</td>\n",
       "      <td>False</td>\n",
       "      <td>False</td>\n",
       "      <td>False</td>\n",
       "      <td>False</td>\n",
       "      <td>False</td>\n",
       "      <td>True</td>\n",
       "    </tr>\n",
       "    <tr>\n",
       "      <th>4</th>\n",
       "      <td>8</td>\n",
       "      <td>11</td>\n",
       "      <td>5</td>\n",
       "      <td>17.56</td>\n",
       "      <td>75</td>\n",
       "      <td>11714</td>\n",
       "      <td>66</td>\n",
       "      <td>0.038938</td>\n",
       "      <td>0.382163</td>\n",
       "      <td>False</td>\n",
       "      <td>...</td>\n",
       "      <td>False</td>\n",
       "      <td>False</td>\n",
       "      <td>False</td>\n",
       "      <td>False</td>\n",
       "      <td>False</td>\n",
       "      <td>False</td>\n",
       "      <td>False</td>\n",
       "      <td>False</td>\n",
       "      <td>False</td>\n",
       "      <td>False</td>\n",
       "    </tr>\n",
       "    <tr>\n",
       "      <th>...</th>\n",
       "      <td>...</td>\n",
       "      <td>...</td>\n",
       "      <td>...</td>\n",
       "      <td>...</td>\n",
       "      <td>...</td>\n",
       "      <td>...</td>\n",
       "      <td>...</td>\n",
       "      <td>...</td>\n",
       "      <td>...</td>\n",
       "      <td>...</td>\n",
       "      <td>...</td>\n",
       "      <td>...</td>\n",
       "      <td>...</td>\n",
       "      <td>...</td>\n",
       "      <td>...</td>\n",
       "      <td>...</td>\n",
       "      <td>...</td>\n",
       "      <td>...</td>\n",
       "      <td>...</td>\n",
       "      <td>...</td>\n",
       "      <td>...</td>\n",
       "    </tr>\n",
       "    <tr>\n",
       "      <th>12206</th>\n",
       "      <td>1</td>\n",
       "      <td>1</td>\n",
       "      <td>5</td>\n",
       "      <td>29.89</td>\n",
       "      <td>173</td>\n",
       "      <td>19000</td>\n",
       "      <td>259</td>\n",
       "      <td>0.349178</td>\n",
       "      <td>0.590882</td>\n",
       "      <td>False</td>\n",
       "      <td>...</td>\n",
       "      <td>False</td>\n",
       "      <td>False</td>\n",
       "      <td>False</td>\n",
       "      <td>False</td>\n",
       "      <td>False</td>\n",
       "      <td>True</td>\n",
       "      <td>False</td>\n",
       "      <td>False</td>\n",
       "      <td>False</td>\n",
       "      <td>False</td>\n",
       "    </tr>\n",
       "    <tr>\n",
       "      <th>12207</th>\n",
       "      <td>1</td>\n",
       "      <td>1</td>\n",
       "      <td>5</td>\n",
       "      <td>26.96</td>\n",
       "      <td>173</td>\n",
       "      <td>25000</td>\n",
       "      <td>259</td>\n",
       "      <td>0.349178</td>\n",
       "      <td>0.110491</td>\n",
       "      <td>False</td>\n",
       "      <td>...</td>\n",
       "      <td>False</td>\n",
       "      <td>False</td>\n",
       "      <td>False</td>\n",
       "      <td>False</td>\n",
       "      <td>False</td>\n",
       "      <td>True</td>\n",
       "      <td>False</td>\n",
       "      <td>False</td>\n",
       "      <td>False</td>\n",
       "      <td>False</td>\n",
       "    </tr>\n",
       "    <tr>\n",
       "      <th>12208</th>\n",
       "      <td>1</td>\n",
       "      <td>1</td>\n",
       "      <td>2</td>\n",
       "      <td>26.74</td>\n",
       "      <td>173</td>\n",
       "      <td>24000</td>\n",
       "      <td>259</td>\n",
       "      <td>0.349178</td>\n",
       "      <td>0.110491</td>\n",
       "      <td>False</td>\n",
       "      <td>...</td>\n",
       "      <td>False</td>\n",
       "      <td>False</td>\n",
       "      <td>False</td>\n",
       "      <td>False</td>\n",
       "      <td>False</td>\n",
       "      <td>True</td>\n",
       "      <td>False</td>\n",
       "      <td>False</td>\n",
       "      <td>False</td>\n",
       "      <td>False</td>\n",
       "    </tr>\n",
       "    <tr>\n",
       "      <th>12209</th>\n",
       "      <td>1</td>\n",
       "      <td>1</td>\n",
       "      <td>2</td>\n",
       "      <td>27.12</td>\n",
       "      <td>173</td>\n",
       "      <td>24000</td>\n",
       "      <td>259</td>\n",
       "      <td>0.349178</td>\n",
       "      <td>0.110491</td>\n",
       "      <td>False</td>\n",
       "      <td>...</td>\n",
       "      <td>False</td>\n",
       "      <td>False</td>\n",
       "      <td>False</td>\n",
       "      <td>False</td>\n",
       "      <td>False</td>\n",
       "      <td>True</td>\n",
       "      <td>False</td>\n",
       "      <td>False</td>\n",
       "      <td>False</td>\n",
       "      <td>False</td>\n",
       "    </tr>\n",
       "    <tr>\n",
       "      <th>12210</th>\n",
       "      <td>1</td>\n",
       "      <td>37</td>\n",
       "      <td>-1</td>\n",
       "      <td>32.01</td>\n",
       "      <td>173</td>\n",
       "      <td>7350</td>\n",
       "      <td>259</td>\n",
       "      <td>0.349178</td>\n",
       "      <td>0.269987</td>\n",
       "      <td>False</td>\n",
       "      <td>...</td>\n",
       "      <td>False</td>\n",
       "      <td>False</td>\n",
       "      <td>False</td>\n",
       "      <td>False</td>\n",
       "      <td>False</td>\n",
       "      <td>True</td>\n",
       "      <td>False</td>\n",
       "      <td>False</td>\n",
       "      <td>False</td>\n",
       "      <td>False</td>\n",
       "    </tr>\n",
       "  </tbody>\n",
       "</table>\n",
       "<p>12211 rows × 26 columns</p>\n",
       "</div>"
      ],
      "text/plain": [
       "       date  build_year  floor  use_area  res_cnt  total_deposit  cctv_cnt  \\\n",
       "0         8          37      3     39.70       36          15000       268   \n",
       "1         8          11      4     13.97       36           8714       268   \n",
       "2         8          46      3     85.36       51          17000        81   \n",
       "3         8           9      2     27.45       51          19000        81   \n",
       "4         8          11      5     17.56       75          11714        66   \n",
       "...     ...         ...    ...       ...      ...            ...       ...   \n",
       "12206     1           1      5     29.89      173          19000       259   \n",
       "12207     1           1      5     26.96      173          25000       259   \n",
       "12208     1           1      2     26.74      173          24000       259   \n",
       "12209     1           1      2     27.12      173          24000       259   \n",
       "12210     1          37     -1     32.01      173           7350       259   \n",
       "\n",
       "       school_dis   sub_dis  dong_금호동1가  ...  dong_상왕십리동  dong_성수동1가  \\\n",
       "0        0.104621  0.106753       False  ...       False       False   \n",
       "1        0.104621  0.153176       False  ...       False       False   \n",
       "2        0.180476  0.441108       False  ...       False       False   \n",
       "3        0.180476  0.283358       False  ...       False       False   \n",
       "4        0.038938  0.382163       False  ...       False       False   \n",
       "...           ...       ...         ...  ...         ...         ...   \n",
       "12206    0.349178  0.590882       False  ...       False       False   \n",
       "12207    0.349178  0.110491       False  ...       False       False   \n",
       "12208    0.349178  0.110491       False  ...       False       False   \n",
       "12209    0.349178  0.110491       False  ...       False       False   \n",
       "12210    0.349178  0.269987       False  ...       False       False   \n",
       "\n",
       "       dong_성수동2가  dong_송정동  dong_옥수동  dong_용답동  dong_응봉동  dong_하왕십리동  \\\n",
       "0           False     False     False     False     False        True   \n",
       "1           False     False     False     False     False        True   \n",
       "2           False     False     False     False     False       False   \n",
       "3           False     False     False     False     False       False   \n",
       "4           False     False     False     False     False       False   \n",
       "...           ...       ...       ...       ...       ...         ...   \n",
       "12206       False     False     False      True     False       False   \n",
       "12207       False     False     False      True     False       False   \n",
       "12208       False     False     False      True     False       False   \n",
       "12209       False     False     False      True     False       False   \n",
       "12210       False     False     False      True     False       False   \n",
       "\n",
       "       dong_행당동  dong_홍익동  \n",
       "0         False     False  \n",
       "1         False     False  \n",
       "2         False      True  \n",
       "3         False      True  \n",
       "4         False     False  \n",
       "...         ...       ...  \n",
       "12206     False     False  \n",
       "12207     False     False  \n",
       "12208     False     False  \n",
       "12209     False     False  \n",
       "12210     False     False  \n",
       "\n",
       "[12211 rows x 26 columns]"
      ]
     },
     "execution_count": 10,
     "metadata": {},
     "output_type": "execute_result"
    }
   ],
   "source": [
    "seongdong_ohe"
   ]
  },
  {
   "cell_type": "code",
   "execution_count": 11,
   "id": "e60436ad",
   "metadata": {},
   "outputs": [],
   "source": [
    "# 타깃과 피처\n",
    "y_target = seongdong_ohe['total_deposit']\n",
    "X_features = seongdong_ohe.drop('total_deposit', axis = 1, inplace = False)\n",
    "\n",
    "X_train, X_test, y_train, y_test = train_test_split(X_features, \n",
    "                                                    y_target, \n",
    "                                                    test_size = 0.2, \n",
    "                                                    random_state = 2023)"
   ]
  },
  {
   "cell_type": "code",
   "execution_count": 12,
   "id": "462ac409",
   "metadata": {},
   "outputs": [],
   "source": [
    "# 단일 모델의 RMSE 값 반환\n",
    "# RMSE : 평균 제곱근 오차를 의미하는 평가 지표 -> 이 값이 작을수록 모델의 예측 성능이 우수하다.\n",
    "def get_rmse(model): # 학습된 모델을 받아서 예측\n",
    "    pred = model.predict(X_test)\n",
    "    mse = mean_squared_error(y_test, pred)\n",
    "    rmse = np.sqrt(mse) # 루트를 씌워서 데이터 간의 격차를 줄여준다.\n",
    "    print('{0} RMSE: {1}'.format(model.__class__.__name__,np.round(rmse, 3)))\n",
    "    return rmse\n",
    "\n",
    "# 여러 모델의 RMSE 값 반환/ 각각의 모델들에 대해서 rmse 를 리턴하는 함수를 만들겠다.\n",
    "def get_rmses(models):\n",
    "    rmses = [] # 반환된 각 모델의 rmse값을 저장한다.\n",
    "    for model in models:\n",
    "        rmse = get_rmse(model)\n",
    "        rmses.append(rmse)    \n",
    "    return rmses # 전달된 모델들의 rmse 값들이 저장된 list 가 반환이 된다."
   ]
  },
  {
   "cell_type": "code",
   "execution_count": 13,
   "id": "6e2c9da0",
   "metadata": {},
   "outputs": [
    {
     "data": {
      "text/html": [
       "<style>#sk-container-id-1 {color: black;}#sk-container-id-1 pre{padding: 0;}#sk-container-id-1 div.sk-toggleable {background-color: white;}#sk-container-id-1 label.sk-toggleable__label {cursor: pointer;display: block;width: 100%;margin-bottom: 0;padding: 0.3em;box-sizing: border-box;text-align: center;}#sk-container-id-1 label.sk-toggleable__label-arrow:before {content: \"▸\";float: left;margin-right: 0.25em;color: #696969;}#sk-container-id-1 label.sk-toggleable__label-arrow:hover:before {color: black;}#sk-container-id-1 div.sk-estimator:hover label.sk-toggleable__label-arrow:before {color: black;}#sk-container-id-1 div.sk-toggleable__content {max-height: 0;max-width: 0;overflow: hidden;text-align: left;background-color: #f0f8ff;}#sk-container-id-1 div.sk-toggleable__content pre {margin: 0.2em;color: black;border-radius: 0.25em;background-color: #f0f8ff;}#sk-container-id-1 input.sk-toggleable__control:checked~div.sk-toggleable__content {max-height: 200px;max-width: 100%;overflow: auto;}#sk-container-id-1 input.sk-toggleable__control:checked~label.sk-toggleable__label-arrow:before {content: \"▾\";}#sk-container-id-1 div.sk-estimator input.sk-toggleable__control:checked~label.sk-toggleable__label {background-color: #d4ebff;}#sk-container-id-1 div.sk-label input.sk-toggleable__control:checked~label.sk-toggleable__label {background-color: #d4ebff;}#sk-container-id-1 input.sk-hidden--visually {border: 0;clip: rect(1px 1px 1px 1px);clip: rect(1px, 1px, 1px, 1px);height: 1px;margin: -1px;overflow: hidden;padding: 0;position: absolute;width: 1px;}#sk-container-id-1 div.sk-estimator {font-family: monospace;background-color: #f0f8ff;border: 1px dotted black;border-radius: 0.25em;box-sizing: border-box;margin-bottom: 0.5em;}#sk-container-id-1 div.sk-estimator:hover {background-color: #d4ebff;}#sk-container-id-1 div.sk-parallel-item::after {content: \"\";width: 100%;border-bottom: 1px solid gray;flex-grow: 1;}#sk-container-id-1 div.sk-label:hover label.sk-toggleable__label {background-color: #d4ebff;}#sk-container-id-1 div.sk-serial::before {content: \"\";position: absolute;border-left: 1px solid gray;box-sizing: border-box;top: 0;bottom: 0;left: 50%;z-index: 0;}#sk-container-id-1 div.sk-serial {display: flex;flex-direction: column;align-items: center;background-color: white;padding-right: 0.2em;padding-left: 0.2em;position: relative;}#sk-container-id-1 div.sk-item {position: relative;z-index: 1;}#sk-container-id-1 div.sk-parallel {display: flex;align-items: stretch;justify-content: center;background-color: white;position: relative;}#sk-container-id-1 div.sk-item::before, #sk-container-id-1 div.sk-parallel-item::before {content: \"\";position: absolute;border-left: 1px solid gray;box-sizing: border-box;top: 0;bottom: 0;left: 50%;z-index: -1;}#sk-container-id-1 div.sk-parallel-item {display: flex;flex-direction: column;z-index: 1;position: relative;background-color: white;}#sk-container-id-1 div.sk-parallel-item:first-child::after {align-self: flex-end;width: 50%;}#sk-container-id-1 div.sk-parallel-item:last-child::after {align-self: flex-start;width: 50%;}#sk-container-id-1 div.sk-parallel-item:only-child::after {width: 0;}#sk-container-id-1 div.sk-dashed-wrapped {border: 1px dashed gray;margin: 0 0.4em 0.5em 0.4em;box-sizing: border-box;padding-bottom: 0.4em;background-color: white;}#sk-container-id-1 div.sk-label label {font-family: monospace;font-weight: bold;display: inline-block;line-height: 1.2em;}#sk-container-id-1 div.sk-label-container {text-align: center;}#sk-container-id-1 div.sk-container {/* jupyter's `normalize.less` sets `[hidden] { display: none; }` but bootstrap.min.css set `[hidden] { display: none !important; }` so we also need the `!important` here to be able to override the default hidden behavior on the sphinx rendered scikit-learn.org. See: https://github.com/scikit-learn/scikit-learn/issues/21755 */display: inline-block !important;position: relative;}#sk-container-id-1 div.sk-text-repr-fallback {display: none;}</style><div id=\"sk-container-id-1\" class=\"sk-top-container\"><div class=\"sk-text-repr-fallback\"><pre>LGBMRegressor()</pre><b>In a Jupyter environment, please rerun this cell to show the HTML representation or trust the notebook. <br />On GitHub, the HTML representation is unable to render, please try loading this page with nbviewer.org.</b></div><div class=\"sk-container\" hidden><div class=\"sk-item\"><div class=\"sk-estimator sk-toggleable\"><input class=\"sk-toggleable__control sk-hidden--visually\" id=\"sk-estimator-id-1\" type=\"checkbox\" checked><label for=\"sk-estimator-id-1\" class=\"sk-toggleable__label sk-toggleable__label-arrow\">LGBMRegressor</label><div class=\"sk-toggleable__content\"><pre>LGBMRegressor()</pre></div></div></div></div></div>"
      ],
      "text/plain": [
       "LGBMRegressor()"
      ]
     },
     "execution_count": 13,
     "metadata": {},
     "output_type": "execute_result"
    }
   ],
   "source": [
    "# 일반 선형 회귀\n",
    "lr_reg = LinearRegression()\n",
    "lr_reg.fit(X_train, y_train)\n",
    "\n",
    "# 릿찌회귀\n",
    "ridge_reg = Ridge()\n",
    "ridge_reg.fit(X_train, y_train)\n",
    "\n",
    "# 라쏘 회귀\n",
    "lasso_reg = Lasso()\n",
    "lasso_reg.fit(X_train, y_train)\n",
    "\n",
    "# 의사결정나무 회귀\n",
    "decision_reg = DecisionTreeRegressor()\n",
    "decision_reg.fit(X_train, y_train)\n",
    "\n",
    "# 랜덤포레스트 회귀\n",
    "randomforest_reg = RandomForestRegressor()\n",
    "randomforest_reg.fit(X_train, y_train)\n",
    "\n",
    "# XGboost\n",
    "xgboost_reg = XGBRegressor()\n",
    "xgboost_reg.fit(X_train, y_train)\n",
    "\n",
    "# Lightgbm\n",
    "lightgbm_reg = LGBMRegressor()\n",
    "lightgbm_reg.fit(X_train, y_train)"
   ]
  },
  {
   "cell_type": "code",
   "execution_count": 14,
   "id": "6502e90a",
   "metadata": {},
   "outputs": [
    {
     "name": "stdout",
     "output_type": "stream",
     "text": [
      "LinearRegression RMSE: 7024.544\n",
      "Ridge RMSE: 7024.62\n",
      "Lasso RMSE: 7024.429\n",
      "DecisionTreeRegressor RMSE: 6575.431\n",
      "RandomForestRegressor RMSE: 5248.506\n",
      "XGBRegressor RMSE: 5742.972\n",
      "LGBMRegressor RMSE: 5212.359\n"
     ]
    },
    {
     "data": {
      "text/plain": [
       "[7024.544442529247,\n",
       " 7024.61998732002,\n",
       " 7024.428717577829,\n",
       " 6575.431252913286,\n",
       " 5248.506465894673,\n",
       " 5742.971890101958,\n",
       " 5212.359380908601]"
      ]
     },
     "execution_count": 14,
     "metadata": {},
     "output_type": "execute_result"
    }
   ],
   "source": [
    "#학습된 모델 전달하고\n",
    "models = [lr_reg, ridge_reg, lasso_reg, decision_reg, randomforest_reg, xgboost_reg, lightgbm_reg]\n",
    "# rmse값 반환\n",
    "get_rmses(models)"
   ]
  },
  {
   "cell_type": "markdown",
   "id": "7bf3c692",
   "metadata": {},
   "source": [
    "# 로그 변환 "
   ]
  },
  {
   "cell_type": "code",
   "execution_count": 15,
   "id": "3a4da0fe",
   "metadata": {},
   "outputs": [],
   "source": [
    "seongdong = df_org.copy()"
   ]
  },
  {
   "cell_type": "code",
   "execution_count": 16,
   "id": "2059ac45",
   "metadata": {},
   "outputs": [
    {
     "data": {
      "text/plain": [
       "<seaborn.axisgrid.FacetGrid at 0x20a5b21e750>"
      ]
     },
     "execution_count": 16,
     "metadata": {},
     "output_type": "execute_result"
    },
    {
     "data": {
      "image/png": "[encoded data removed]",
      "text/plain": [
       "<Figure size 500x500 with 1 Axes>"
      ]
     },
     "metadata": {},
     "output_type": "display_data"
    }
   ],
   "source": [
    "log_deposit = np.log1p(seongdong['total_deposit'])\n",
    "sns.displot(log_deposit)"
   ]
  },
  {
   "cell_type": "code",
   "execution_count": 17,
   "id": "74270d83",
   "metadata": {},
   "outputs": [],
   "source": [
    "seongdong['total_deposit'] = np.log1p(seongdong['total_deposit'])"
   ]
  },
  {
   "cell_type": "code",
   "execution_count": 18,
   "id": "45a7b960",
   "metadata": {},
   "outputs": [
    {
     "name": "stdout",
     "output_type": "stream",
     "text": [
      "get_dummies() 수행 전 데이터 Shape: (12211, 10)\n",
      "get_dummies() 수행 후 데이터 Shape: (12211, 26)\n"
     ]
    }
   ],
   "source": [
    "print('get_dummies() 수행 전 데이터 Shape:', seongdong.shape)\n",
    "seongdong_ohe = pd.get_dummies(seongdong) # one-hot encoding 수행\n",
    "print('get_dummies() 수행 후 데이터 Shape:', seongdong_ohe.shape)"
   ]
  },
  {
   "cell_type": "code",
   "execution_count": 19,
   "id": "08091e3b",
   "metadata": {},
   "outputs": [],
   "source": [
    "# 타깃과 피처\n",
    "y_target = seongdong_ohe['total_deposit']\n",
    "X_features = seongdong_ohe.drop('total_deposit', axis = 1, inplace = False)\n",
    "\n",
    "X_train, X_test, y_train, y_test = train_test_split(X_features, \n",
    "                                                    y_target, \n",
    "                                                    test_size = 0.2, \n",
    "                                                    random_state = 2023)"
   ]
  },
  {
   "cell_type": "code",
   "execution_count": 20,
   "id": "440a9091",
   "metadata": {},
   "outputs": [
    {
     "data": {
      "text/html": [
       "<style>#sk-container-id-2 {color: black;}#sk-container-id-2 pre{padding: 0;}#sk-container-id-2 div.sk-toggleable {background-color: white;}#sk-container-id-2 label.sk-toggleable__label {cursor: pointer;display: block;width: 100%;margin-bottom: 0;padding: 0.3em;box-sizing: border-box;text-align: center;}#sk-container-id-2 label.sk-toggleable__label-arrow:before {content: \"▸\";float: left;margin-right: 0.25em;color: #696969;}#sk-container-id-2 label.sk-toggleable__label-arrow:hover:before {color: black;}#sk-container-id-2 div.sk-estimator:hover label.sk-toggleable__label-arrow:before {color: black;}#sk-container-id-2 div.sk-toggleable__content {max-height: 0;max-width: 0;overflow: hidden;text-align: left;background-color: #f0f8ff;}#sk-container-id-2 div.sk-toggleable__content pre {margin: 0.2em;color: black;border-radius: 0.25em;background-color: #f0f8ff;}#sk-container-id-2 input.sk-toggleable__control:checked~div.sk-toggleable__content {max-height: 200px;max-width: 100%;overflow: auto;}#sk-container-id-2 input.sk-toggleable__control:checked~label.sk-toggleable__label-arrow:before {content: \"▾\";}#sk-container-id-2 div.sk-estimator input.sk-toggleable__control:checked~label.sk-toggleable__label {background-color: #d4ebff;}#sk-container-id-2 div.sk-label input.sk-toggleable__control:checked~label.sk-toggleable__label {background-color: #d4ebff;}#sk-container-id-2 input.sk-hidden--visually {border: 0;clip: rect(1px 1px 1px 1px);clip: rect(1px, 1px, 1px, 1px);height: 1px;margin: -1px;overflow: hidden;padding: 0;position: absolute;width: 1px;}#sk-container-id-2 div.sk-estimator {font-family: monospace;background-color: #f0f8ff;border: 1px dotted black;border-radius: 0.25em;box-sizing: border-box;margin-bottom: 0.5em;}#sk-container-id-2 div.sk-estimator:hover {background-color: #d4ebff;}#sk-container-id-2 div.sk-parallel-item::after {content: \"\";width: 100%;border-bottom: 1px solid gray;flex-grow: 1;}#sk-container-id-2 div.sk-label:hover label.sk-toggleable__label {background-color: #d4ebff;}#sk-container-id-2 div.sk-serial::before {content: \"\";position: absolute;border-left: 1px solid gray;box-sizing: border-box;top: 0;bottom: 0;left: 50%;z-index: 0;}#sk-container-id-2 div.sk-serial {display: flex;flex-direction: column;align-items: center;background-color: white;padding-right: 0.2em;padding-left: 0.2em;position: relative;}#sk-container-id-2 div.sk-item {position: relative;z-index: 1;}#sk-container-id-2 div.sk-parallel {display: flex;align-items: stretch;justify-content: center;background-color: white;position: relative;}#sk-container-id-2 div.sk-item::before, #sk-container-id-2 div.sk-parallel-item::before {content: \"\";position: absolute;border-left: 1px solid gray;box-sizing: border-box;top: 0;bottom: 0;left: 50%;z-index: -1;}#sk-container-id-2 div.sk-parallel-item {display: flex;flex-direction: column;z-index: 1;position: relative;background-color: white;}#sk-container-id-2 div.sk-parallel-item:first-child::after {align-self: flex-end;width: 50%;}#sk-container-id-2 div.sk-parallel-item:last-child::after {align-self: flex-start;width: 50%;}#sk-container-id-2 div.sk-parallel-item:only-child::after {width: 0;}#sk-container-id-2 div.sk-dashed-wrapped {border: 1px dashed gray;margin: 0 0.4em 0.5em 0.4em;box-sizing: border-box;padding-bottom: 0.4em;background-color: white;}#sk-container-id-2 div.sk-label label {font-family: monospace;font-weight: bold;display: inline-block;line-height: 1.2em;}#sk-container-id-2 div.sk-label-container {text-align: center;}#sk-container-id-2 div.sk-container {/* jupyter's `normalize.less` sets `[hidden] { display: none; }` but bootstrap.min.css set `[hidden] { display: none !important; }` so we also need the `!important` here to be able to override the default hidden behavior on the sphinx rendered scikit-learn.org. See: https://github.com/scikit-learn/scikit-learn/issues/21755 */display: inline-block !important;position: relative;}#sk-container-id-2 div.sk-text-repr-fallback {display: none;}</style><div id=\"sk-container-id-2\" class=\"sk-top-container\"><div class=\"sk-text-repr-fallback\"><pre>LGBMRegressor()</pre><b>In a Jupyter environment, please rerun this cell to show the HTML representation or trust the notebook. <br />On GitHub, the HTML representation is unable to render, please try loading this page with nbviewer.org.</b></div><div class=\"sk-container\" hidden><div class=\"sk-item\"><div class=\"sk-estimator sk-toggleable\"><input class=\"sk-toggleable__control sk-hidden--visually\" id=\"sk-estimator-id-2\" type=\"checkbox\" checked><label for=\"sk-estimator-id-2\" class=\"sk-toggleable__label sk-toggleable__label-arrow\">LGBMRegressor</label><div class=\"sk-toggleable__content\"><pre>LGBMRegressor()</pre></div></div></div></div></div>"
      ],
      "text/plain": [
       "LGBMRegressor()"
      ]
     },
     "execution_count": 20,
     "metadata": {},
     "output_type": "execute_result"
    }
   ],
   "source": [
    "# 일반 선형 회귀\n",
    "lr_reg = LinearRegression()\n",
    "lr_reg.fit(X_train, y_train)\n",
    "\n",
    "# 릿찌회귀\n",
    "ridge_reg = Ridge()\n",
    "ridge_reg.fit(X_train, y_train)\n",
    "\n",
    "# 라쏘 회귀\n",
    "lasso_reg = Lasso()\n",
    "lasso_reg.fit(X_train, y_train)\n",
    "\n",
    "# 의사결정나무 회귀\n",
    "decision_reg = DecisionTreeRegressor()\n",
    "decision_reg.fit(X_train, y_train)\n",
    "\n",
    "# 랜덤포레스트 회귀\n",
    "randomforest_reg = RandomForestRegressor()\n",
    "randomforest_reg.fit(X_train, y_train)\n",
    "\n",
    "# XGboost\n",
    "xgboost_reg = XGBRegressor()\n",
    "xgboost_reg.fit(X_train, y_train)\n",
    "\n",
    "# Lightgbm\n",
    "lightgbm_reg = LGBMRegressor()\n",
    "lightgbm_reg.fit(X_train, y_train)"
   ]
  },
  {
   "cell_type": "code",
   "execution_count": 21,
   "id": "776730ff",
   "metadata": {},
   "outputs": [
    {
     "name": "stdout",
     "output_type": "stream",
     "text": [
      "LinearRegression RMSE: 0.353\n",
      "Ridge RMSE: 0.353\n",
      "Lasso RMSE: 0.404\n",
      "DecisionTreeRegressor RMSE: 0.365\n",
      "RandomForestRegressor RMSE: 0.273\n",
      "XGBRegressor RMSE: 0.271\n",
      "LGBMRegressor RMSE: 0.283\n"
     ]
    },
    {
     "data": {
      "text/plain": [
       "[0.3533141939318419,\n",
       " 0.3533223075919646,\n",
       " 0.4044738768227678,\n",
       " 0.3647666536420788,\n",
       " 0.273453432564213,\n",
       " 0.27087366877362157,\n",
       " 0.28281154802865877]"
      ]
     },
     "execution_count": 21,
     "metadata": {},
     "output_type": "execute_result"
    }
   ],
   "source": [
    "#학습된 모델 전달하고\n",
    "models = [lr_reg, ridge_reg, lasso_reg, decision_reg, randomforest_reg, xgboost_reg, lightgbm_reg]\n",
    "# rmse값 반환\n",
    "get_rmses(models)"
   ]
  },
  {
   "cell_type": "markdown",
   "id": "eb871c74",
   "metadata": {},
   "source": [
    "# 이상치 처리, 로그변환"
   ]
  },
  {
   "cell_type": "code",
   "execution_count": 22,
   "id": "cdcfa320",
   "metadata": {},
   "outputs": [],
   "source": [
    "seongdong = df_org.copy()"
   ]
  },
  {
   "cell_type": "code",
   "execution_count": 23,
   "id": "c8160d1d",
   "metadata": {},
   "outputs": [],
   "source": [
    "seongdong.drop(seongdong[(seongdong['use_area'] > 100) & (seongdong['total_deposit'] < 20000)].index, inplace=True)"
   ]
  },
  {
   "cell_type": "code",
   "execution_count": 24,
   "id": "533774fe",
   "metadata": {},
   "outputs": [
    {
     "data": {
      "text/html": [
       "<div>\n",
       "<style scoped>\n",
       "    .dataframe tbody tr th:only-of-type {\n",
       "        vertical-align: middle;\n",
       "    }\n",
       "\n",
       "    .dataframe tbody tr th {\n",
       "        vertical-align: top;\n",
       "    }\n",
       "\n",
       "    .dataframe thead th {\n",
       "        text-align: right;\n",
       "    }\n",
       "</style>\n",
       "<table border=\"1\" class=\"dataframe\">\n",
       "  <thead>\n",
       "    <tr style=\"text-align: right;\">\n",
       "      <th></th>\n",
       "      <th>date</th>\n",
       "      <th>build_year</th>\n",
       "      <th>floor</th>\n",
       "      <th>use_area</th>\n",
       "      <th>res_cnt</th>\n",
       "      <th>total_deposit</th>\n",
       "      <th>cctv_cnt</th>\n",
       "      <th>school_dis</th>\n",
       "      <th>sub_dis</th>\n",
       "    </tr>\n",
       "  </thead>\n",
       "  <tbody>\n",
       "    <tr>\n",
       "      <th>count</th>\n",
       "      <td>12173.000000</td>\n",
       "      <td>12173.000000</td>\n",
       "      <td>12173.000000</td>\n",
       "      <td>12173.000000</td>\n",
       "      <td>12173.000000</td>\n",
       "      <td>12173.000000</td>\n",
       "      <td>12173.000000</td>\n",
       "      <td>12173.000000</td>\n",
       "      <td>12173.000000</td>\n",
       "    </tr>\n",
       "    <tr>\n",
       "      <th>mean</th>\n",
       "      <td>4.123716</td>\n",
       "      <td>18.716093</td>\n",
       "      <td>2.991457</td>\n",
       "      <td>40.795801</td>\n",
       "      <td>263.860675</td>\n",
       "      <td>18411.165530</td>\n",
       "      <td>369.559106</td>\n",
       "      <td>0.244371</td>\n",
       "      <td>0.421660</td>\n",
       "    </tr>\n",
       "    <tr>\n",
       "      <th>std</th>\n",
       "      <td>2.326491</td>\n",
       "      <td>11.569046</td>\n",
       "      <td>1.738138</td>\n",
       "      <td>20.836880</td>\n",
       "      <td>233.184835</td>\n",
       "      <td>8246.581345</td>\n",
       "      <td>180.192851</td>\n",
       "      <td>0.134853</td>\n",
       "      <td>0.210158</td>\n",
       "    </tr>\n",
       "    <tr>\n",
       "      <th>min</th>\n",
       "      <td>1.000000</td>\n",
       "      <td>1.000000</td>\n",
       "      <td>-1.000000</td>\n",
       "      <td>8.960000</td>\n",
       "      <td>15.000000</td>\n",
       "      <td>1400.000000</td>\n",
       "      <td>19.000000</td>\n",
       "      <td>0.038938</td>\n",
       "      <td>0.041580</td>\n",
       "    </tr>\n",
       "    <tr>\n",
       "      <th>25%</th>\n",
       "      <td>2.000000</td>\n",
       "      <td>9.000000</td>\n",
       "      <td>2.000000</td>\n",
       "      <td>26.640000</td>\n",
       "      <td>64.000000</td>\n",
       "      <td>12809.000000</td>\n",
       "      <td>171.000000</td>\n",
       "      <td>0.146234</td>\n",
       "      <td>0.272563</td>\n",
       "    </tr>\n",
       "    <tr>\n",
       "      <th>50%</th>\n",
       "      <td>4.000000</td>\n",
       "      <td>17.000000</td>\n",
       "      <td>3.000000</td>\n",
       "      <td>36.960000</td>\n",
       "      <td>168.000000</td>\n",
       "      <td>17500.000000</td>\n",
       "      <td>403.000000</td>\n",
       "      <td>0.200793</td>\n",
       "      <td>0.369158</td>\n",
       "    </tr>\n",
       "    <tr>\n",
       "      <th>75%</th>\n",
       "      <td>6.000000</td>\n",
       "      <td>28.000000</td>\n",
       "      <td>4.000000</td>\n",
       "      <td>54.320000</td>\n",
       "      <td>431.000000</td>\n",
       "      <td>23000.000000</td>\n",
       "      <td>504.000000</td>\n",
       "      <td>0.342383</td>\n",
       "      <td>0.538121</td>\n",
       "    </tr>\n",
       "    <tr>\n",
       "      <th>max</th>\n",
       "      <td>8.000000</td>\n",
       "      <td>53.000000</td>\n",
       "      <td>17.000000</td>\n",
       "      <td>189.100000</td>\n",
       "      <td>958.000000</td>\n",
       "      <td>115000.000000</td>\n",
       "      <td>590.000000</td>\n",
       "      <td>0.524474</td>\n",
       "      <td>1.043076</td>\n",
       "    </tr>\n",
       "  </tbody>\n",
       "</table>\n",
       "</div>"
      ],
      "text/plain": [
       "               date    build_year         floor      use_area       res_cnt  \\\n",
       "count  12173.000000  12173.000000  12173.000000  12173.000000  12173.000000   \n",
       "mean       4.123716     18.716093      2.991457     40.795801    263.860675   \n",
       "std        2.326491     11.569046      1.738138     20.836880    233.184835   \n",
       "min        1.000000      1.000000     -1.000000      8.960000     15.000000   \n",
       "25%        2.000000      9.000000      2.000000     26.640000     64.000000   \n",
       "50%        4.000000     17.000000      3.000000     36.960000    168.000000   \n",
       "75%        6.000000     28.000000      4.000000     54.320000    431.000000   \n",
       "max        8.000000     53.000000     17.000000    189.100000    958.000000   \n",
       "\n",
       "       total_deposit      cctv_cnt    school_dis       sub_dis  \n",
       "count   12173.000000  12173.000000  12173.000000  12173.000000  \n",
       "mean    18411.165530    369.559106      0.244371      0.421660  \n",
       "std      8246.581345    180.192851      0.134853      0.210158  \n",
       "min      1400.000000     19.000000      0.038938      0.041580  \n",
       "25%     12809.000000    171.000000      0.146234      0.272563  \n",
       "50%     17500.000000    403.000000      0.200793      0.369158  \n",
       "75%     23000.000000    504.000000      0.342383      0.538121  \n",
       "max    115000.000000    590.000000      0.524474      1.043076  "
      ]
     },
     "execution_count": 24,
     "metadata": {},
     "output_type": "execute_result"
    }
   ],
   "source": [
    "seongdong = seongdong[seongdong['total_deposit'] <= 200000]\n",
    "seongdong = seongdong[seongdong['total_deposit'] > 1000]\n",
    "seongdong = seongdong[seongdong['use_area'] > 1]\n",
    "seongdong.reset_index(drop = True, inplace = True)\n",
    "seongdong.describe()"
   ]
  },
  {
   "cell_type": "code",
   "execution_count": 25,
   "id": "a4cac8bd",
   "metadata": {},
   "outputs": [],
   "source": [
    "seongdong['total_deposit'] = np.log1p(seongdong['total_deposit'])"
   ]
  },
  {
   "cell_type": "code",
   "execution_count": 26,
   "id": "3d85e9d2",
   "metadata": {},
   "outputs": [
    {
     "name": "stdout",
     "output_type": "stream",
     "text": [
      "get_dummies() 수행 전 데이터 Shape: (12173, 10)\n",
      "get_dummies() 수행 후 데이터 Shape: (12173, 26)\n"
     ]
    }
   ],
   "source": [
    "print('get_dummies() 수행 전 데이터 Shape:', seongdong.shape)\n",
    "seongdong_ohe = pd.get_dummies(seongdong) # one-hot encoding 수행\n",
    "print('get_dummies() 수행 후 데이터 Shape:', seongdong_ohe.shape)"
   ]
  },
  {
   "cell_type": "code",
   "execution_count": 27,
   "id": "bb199e93",
   "metadata": {},
   "outputs": [],
   "source": [
    "# 타깃과 피처\n",
    "y_target = seongdong_ohe['total_deposit']\n",
    "X_features = seongdong_ohe.drop('total_deposit', axis = 1, inplace = False)\n",
    "\n",
    "X_train, X_test, y_train, y_test = train_test_split(X_features, \n",
    "                                                    y_target, \n",
    "                                                    test_size = 0.2, \n",
    "                                                    random_state = 2023)"
   ]
  },
  {
   "cell_type": "code",
   "execution_count": 28,
   "id": "9e0e01da",
   "metadata": {},
   "outputs": [
    {
     "data": {
      "text/html": [
       "<style>#sk-container-id-3 {color: black;}#sk-container-id-3 pre{padding: 0;}#sk-container-id-3 div.sk-toggleable {background-color: white;}#sk-container-id-3 label.sk-toggleable__label {cursor: pointer;display: block;width: 100%;margin-bottom: 0;padding: 0.3em;box-sizing: border-box;text-align: center;}#sk-container-id-3 label.sk-toggleable__label-arrow:before {content: \"▸\";float: left;margin-right: 0.25em;color: #696969;}#sk-container-id-3 label.sk-toggleable__label-arrow:hover:before {color: black;}#sk-container-id-3 div.sk-estimator:hover label.sk-toggleable__label-arrow:before {color: black;}#sk-container-id-3 div.sk-toggleable__content {max-height: 0;max-width: 0;overflow: hidden;text-align: left;background-color: #f0f8ff;}#sk-container-id-3 div.sk-toggleable__content pre {margin: 0.2em;color: black;border-radius: 0.25em;background-color: #f0f8ff;}#sk-container-id-3 input.sk-toggleable__control:checked~div.sk-toggleable__content {max-height: 200px;max-width: 100%;overflow: auto;}#sk-container-id-3 input.sk-toggleable__control:checked~label.sk-toggleable__label-arrow:before {content: \"▾\";}#sk-container-id-3 div.sk-estimator input.sk-toggleable__control:checked~label.sk-toggleable__label {background-color: #d4ebff;}#sk-container-id-3 div.sk-label input.sk-toggleable__control:checked~label.sk-toggleable__label {background-color: #d4ebff;}#sk-container-id-3 input.sk-hidden--visually {border: 0;clip: rect(1px 1px 1px 1px);clip: rect(1px, 1px, 1px, 1px);height: 1px;margin: -1px;overflow: hidden;padding: 0;position: absolute;width: 1px;}#sk-container-id-3 div.sk-estimator {font-family: monospace;background-color: #f0f8ff;border: 1px dotted black;border-radius: 0.25em;box-sizing: border-box;margin-bottom: 0.5em;}#sk-container-id-3 div.sk-estimator:hover {background-color: #d4ebff;}#sk-container-id-3 div.sk-parallel-item::after {content: \"\";width: 100%;border-bottom: 1px solid gray;flex-grow: 1;}#sk-container-id-3 div.sk-label:hover label.sk-toggleable__label {background-color: #d4ebff;}#sk-container-id-3 div.sk-serial::before {content: \"\";position: absolute;border-left: 1px solid gray;box-sizing: border-box;top: 0;bottom: 0;left: 50%;z-index: 0;}#sk-container-id-3 div.sk-serial {display: flex;flex-direction: column;align-items: center;background-color: white;padding-right: 0.2em;padding-left: 0.2em;position: relative;}#sk-container-id-3 div.sk-item {position: relative;z-index: 1;}#sk-container-id-3 div.sk-parallel {display: flex;align-items: stretch;justify-content: center;background-color: white;position: relative;}#sk-container-id-3 div.sk-item::before, #sk-container-id-3 div.sk-parallel-item::before {content: \"\";position: absolute;border-left: 1px solid gray;box-sizing: border-box;top: 0;bottom: 0;left: 50%;z-index: -1;}#sk-container-id-3 div.sk-parallel-item {display: flex;flex-direction: column;z-index: 1;position: relative;background-color: white;}#sk-container-id-3 div.sk-parallel-item:first-child::after {align-self: flex-end;width: 50%;}#sk-container-id-3 div.sk-parallel-item:last-child::after {align-self: flex-start;width: 50%;}#sk-container-id-3 div.sk-parallel-item:only-child::after {width: 0;}#sk-container-id-3 div.sk-dashed-wrapped {border: 1px dashed gray;margin: 0 0.4em 0.5em 0.4em;box-sizing: border-box;padding-bottom: 0.4em;background-color: white;}#sk-container-id-3 div.sk-label label {font-family: monospace;font-weight: bold;display: inline-block;line-height: 1.2em;}#sk-container-id-3 div.sk-label-container {text-align: center;}#sk-container-id-3 div.sk-container {/* jupyter's `normalize.less` sets `[hidden] { display: none; }` but bootstrap.min.css set `[hidden] { display: none !important; }` so we also need the `!important` here to be able to override the default hidden behavior on the sphinx rendered scikit-learn.org. See: https://github.com/scikit-learn/scikit-learn/issues/21755 */display: inline-block !important;position: relative;}#sk-container-id-3 div.sk-text-repr-fallback {display: none;}</style><div id=\"sk-container-id-3\" class=\"sk-top-container\"><div class=\"sk-text-repr-fallback\"><pre>LGBMRegressor()</pre><b>In a Jupyter environment, please rerun this cell to show the HTML representation or trust the notebook. <br />On GitHub, the HTML representation is unable to render, please try loading this page with nbviewer.org.</b></div><div class=\"sk-container\" hidden><div class=\"sk-item\"><div class=\"sk-estimator sk-toggleable\"><input class=\"sk-toggleable__control sk-hidden--visually\" id=\"sk-estimator-id-3\" type=\"checkbox\" checked><label for=\"sk-estimator-id-3\" class=\"sk-toggleable__label sk-toggleable__label-arrow\">LGBMRegressor</label><div class=\"sk-toggleable__content\"><pre>LGBMRegressor()</pre></div></div></div></div></div>"
      ],
      "text/plain": [
       "LGBMRegressor()"
      ]
     },
     "execution_count": 28,
     "metadata": {},
     "output_type": "execute_result"
    }
   ],
   "source": [
    "# 일반 선형 회귀\n",
    "lr_reg = LinearRegression()\n",
    "lr_reg.fit(X_train, y_train)\n",
    "\n",
    "# 릿찌회귀\n",
    "ridge_reg = Ridge()\n",
    "ridge_reg.fit(X_train, y_train)\n",
    "\n",
    "# 라쏘 회귀\n",
    "lasso_reg = Lasso()\n",
    "lasso_reg.fit(X_train, y_train)\n",
    "\n",
    "# 의사결정나무 회귀\n",
    "decision_reg = DecisionTreeRegressor()\n",
    "decision_reg.fit(X_train, y_train)\n",
    "\n",
    "# 랜덤포레스트 회귀\n",
    "randomforest_reg = RandomForestRegressor()\n",
    "randomforest_reg.fit(X_train, y_train)\n",
    "\n",
    "# XGboost\n",
    "xgboost_reg = XGBRegressor()\n",
    "xgboost_reg.fit(X_train, y_train)\n",
    "\n",
    "# Lightgbm\n",
    "lightgbm_reg = LGBMRegressor()\n",
    "lightgbm_reg.fit(X_train, y_train)"
   ]
  },
  {
   "cell_type": "code",
   "execution_count": 29,
   "id": "a3f98de7",
   "metadata": {},
   "outputs": [
    {
     "name": "stdout",
     "output_type": "stream",
     "text": [
      "LinearRegression RMSE: 0.335\n",
      "Ridge RMSE: 0.335\n",
      "Lasso RMSE: 0.393\n",
      "DecisionTreeRegressor RMSE: 0.357\n",
      "RandomForestRegressor RMSE: 0.26\n",
      "XGBRegressor RMSE: 0.256\n",
      "LGBMRegressor RMSE: 0.262\n"
     ]
    },
    {
     "data": {
      "text/plain": [
       "[0.335187707554292,\n",
       " 0.3351902361380245,\n",
       " 0.3927736081135477,\n",
       " 0.35716941613578634,\n",
       " 0.26034233063675527,\n",
       " 0.25598855007659277,\n",
       " 0.2618194736629957]"
      ]
     },
     "execution_count": 29,
     "metadata": {},
     "output_type": "execute_result"
    }
   ],
   "source": [
    "#학습된 모델 전달하고\n",
    "models = [lr_reg, ridge_reg, lasso_reg, decision_reg, randomforest_reg, xgboost_reg, lightgbm_reg]\n",
    "# rmse값 반환\n",
    "get_rmses(models)"
   ]
  },
  {
   "cell_type": "markdown",
   "id": "6fc29483",
   "metadata": {},
   "source": [
    "# 이상치처리, 로그변환, 표준화"
   ]
  },
  {
   "cell_type": "code",
   "execution_count": 30,
   "id": "4fe167ed",
   "metadata": {},
   "outputs": [],
   "source": [
    "seongdong = df_org.copy()"
   ]
  },
  {
   "cell_type": "code",
   "execution_count": 31,
   "id": "bfe8dc4b",
   "metadata": {},
   "outputs": [],
   "source": [
    "seongdong.drop(seongdong[(seongdong['use_area'] > 100) & (seongdong['total_deposit'] < 20000)].index, inplace=True)"
   ]
  },
  {
   "cell_type": "code",
   "execution_count": 32,
   "id": "fd85123e",
   "metadata": {},
   "outputs": [
    {
     "data": {
      "text/html": [
       "<div>\n",
       "<style scoped>\n",
       "    .dataframe tbody tr th:only-of-type {\n",
       "        vertical-align: middle;\n",
       "    }\n",
       "\n",
       "    .dataframe tbody tr th {\n",
       "        vertical-align: top;\n",
       "    }\n",
       "\n",
       "    .dataframe thead th {\n",
       "        text-align: right;\n",
       "    }\n",
       "</style>\n",
       "<table border=\"1\" class=\"dataframe\">\n",
       "  <thead>\n",
       "    <tr style=\"text-align: right;\">\n",
       "      <th></th>\n",
       "      <th>date</th>\n",
       "      <th>build_year</th>\n",
       "      <th>floor</th>\n",
       "      <th>use_area</th>\n",
       "      <th>res_cnt</th>\n",
       "      <th>total_deposit</th>\n",
       "      <th>cctv_cnt</th>\n",
       "      <th>school_dis</th>\n",
       "      <th>sub_dis</th>\n",
       "    </tr>\n",
       "  </thead>\n",
       "  <tbody>\n",
       "    <tr>\n",
       "      <th>count</th>\n",
       "      <td>12173.000000</td>\n",
       "      <td>12173.000000</td>\n",
       "      <td>12173.000000</td>\n",
       "      <td>12173.000000</td>\n",
       "      <td>12173.000000</td>\n",
       "      <td>12173.000000</td>\n",
       "      <td>12173.000000</td>\n",
       "      <td>12173.000000</td>\n",
       "      <td>12173.000000</td>\n",
       "    </tr>\n",
       "    <tr>\n",
       "      <th>mean</th>\n",
       "      <td>4.123716</td>\n",
       "      <td>18.716093</td>\n",
       "      <td>2.991457</td>\n",
       "      <td>40.795801</td>\n",
       "      <td>263.860675</td>\n",
       "      <td>18411.165530</td>\n",
       "      <td>369.559106</td>\n",
       "      <td>0.244371</td>\n",
       "      <td>0.421660</td>\n",
       "    </tr>\n",
       "    <tr>\n",
       "      <th>std</th>\n",
       "      <td>2.326491</td>\n",
       "      <td>11.569046</td>\n",
       "      <td>1.738138</td>\n",
       "      <td>20.836880</td>\n",
       "      <td>233.184835</td>\n",
       "      <td>8246.581345</td>\n",
       "      <td>180.192851</td>\n",
       "      <td>0.134853</td>\n",
       "      <td>0.210158</td>\n",
       "    </tr>\n",
       "    <tr>\n",
       "      <th>min</th>\n",
       "      <td>1.000000</td>\n",
       "      <td>1.000000</td>\n",
       "      <td>-1.000000</td>\n",
       "      <td>8.960000</td>\n",
       "      <td>15.000000</td>\n",
       "      <td>1400.000000</td>\n",
       "      <td>19.000000</td>\n",
       "      <td>0.038938</td>\n",
       "      <td>0.041580</td>\n",
       "    </tr>\n",
       "    <tr>\n",
       "      <th>25%</th>\n",
       "      <td>2.000000</td>\n",
       "      <td>9.000000</td>\n",
       "      <td>2.000000</td>\n",
       "      <td>26.640000</td>\n",
       "      <td>64.000000</td>\n",
       "      <td>12809.000000</td>\n",
       "      <td>171.000000</td>\n",
       "      <td>0.146234</td>\n",
       "      <td>0.272563</td>\n",
       "    </tr>\n",
       "    <tr>\n",
       "      <th>50%</th>\n",
       "      <td>4.000000</td>\n",
       "      <td>17.000000</td>\n",
       "      <td>3.000000</td>\n",
       "      <td>36.960000</td>\n",
       "      <td>168.000000</td>\n",
       "      <td>17500.000000</td>\n",
       "      <td>403.000000</td>\n",
       "      <td>0.200793</td>\n",
       "      <td>0.369158</td>\n",
       "    </tr>\n",
       "    <tr>\n",
       "      <th>75%</th>\n",
       "      <td>6.000000</td>\n",
       "      <td>28.000000</td>\n",
       "      <td>4.000000</td>\n",
       "      <td>54.320000</td>\n",
       "      <td>431.000000</td>\n",
       "      <td>23000.000000</td>\n",
       "      <td>504.000000</td>\n",
       "      <td>0.342383</td>\n",
       "      <td>0.538121</td>\n",
       "    </tr>\n",
       "    <tr>\n",
       "      <th>max</th>\n",
       "      <td>8.000000</td>\n",
       "      <td>53.000000</td>\n",
       "      <td>17.000000</td>\n",
       "      <td>189.100000</td>\n",
       "      <td>958.000000</td>\n",
       "      <td>115000.000000</td>\n",
       "      <td>590.000000</td>\n",
       "      <td>0.524474</td>\n",
       "      <td>1.043076</td>\n",
       "    </tr>\n",
       "  </tbody>\n",
       "</table>\n",
       "</div>"
      ],
      "text/plain": [
       "               date    build_year         floor      use_area       res_cnt  \\\n",
       "count  12173.000000  12173.000000  12173.000000  12173.000000  12173.000000   \n",
       "mean       4.123716     18.716093      2.991457     40.795801    263.860675   \n",
       "std        2.326491     11.569046      1.738138     20.836880    233.184835   \n",
       "min        1.000000      1.000000     -1.000000      8.960000     15.000000   \n",
       "25%        2.000000      9.000000      2.000000     26.640000     64.000000   \n",
       "50%        4.000000     17.000000      3.000000     36.960000    168.000000   \n",
       "75%        6.000000     28.000000      4.000000     54.320000    431.000000   \n",
       "max        8.000000     53.000000     17.000000    189.100000    958.000000   \n",
       "\n",
       "       total_deposit      cctv_cnt    school_dis       sub_dis  \n",
       "count   12173.000000  12173.000000  12173.000000  12173.000000  \n",
       "mean    18411.165530    369.559106      0.244371      0.421660  \n",
       "std      8246.581345    180.192851      0.134853      0.210158  \n",
       "min      1400.000000     19.000000      0.038938      0.041580  \n",
       "25%     12809.000000    171.000000      0.146234      0.272563  \n",
       "50%     17500.000000    403.000000      0.200793      0.369158  \n",
       "75%     23000.000000    504.000000      0.342383      0.538121  \n",
       "max    115000.000000    590.000000      0.524474      1.043076  "
      ]
     },
     "execution_count": 32,
     "metadata": {},
     "output_type": "execute_result"
    }
   ],
   "source": [
    "seongdong = seongdong[(seongdong['total_deposit'] <= 200000) & (seongdong['total_deposit'] > 1000)]\n",
    "# seongdong = seongdong[seongdong['total_deposit'] > 1000]\n",
    "seongdong = seongdong[seongdong['use_area'] > 1]\n",
    "seongdong.reset_index(drop = True, inplace = True)\n",
    "seongdong.describe()"
   ]
  },
  {
   "cell_type": "code",
   "execution_count": 33,
   "id": "3026df42",
   "metadata": {},
   "outputs": [],
   "source": [
    "seongdong['total_deposit'] = np.log1p(seongdong['total_deposit'])"
   ]
  },
  {
   "cell_type": "code",
   "execution_count": 34,
   "id": "1e501b02",
   "metadata": {},
   "outputs": [
    {
     "data": {
      "text/plain": [
       "(12173, 10)"
      ]
     },
     "execution_count": 34,
     "metadata": {},
     "output_type": "execute_result"
    }
   ],
   "source": [
    "seongdong.shape"
   ]
  },
  {
   "cell_type": "code",
   "execution_count": 35,
   "id": "16f0618f",
   "metadata": {},
   "outputs": [
    {
     "name": "stdout",
     "output_type": "stream",
     "text": [
      "get_dummies() 수행 전 데이터 Shape: (12173, 10)\n",
      "get_dummies() 수행 후 데이터 Shape: (12173, 26)\n"
     ]
    }
   ],
   "source": [
    "print('get_dummies() 수행 전 데이터 Shape:', seongdong.shape)\n",
    "seongdong_ohe = pd.get_dummies(seongdong) # one-hot encoding 수행\n",
    "print('get_dummies() 수행 후 데이터 Shape:', seongdong_ohe.shape)"
   ]
  },
  {
   "cell_type": "code",
   "execution_count": 36,
   "id": "2fd4f173",
   "metadata": {},
   "outputs": [],
   "source": [
    "# 타깃과 피처\n",
    "y_target = seongdong_ohe['total_deposit']\n",
    "X_features = seongdong_ohe.drop('total_deposit', axis = 1, inplace = False)\n",
    "\n",
    "X_train, X_test, y_train, y_test = train_test_split(X_features, \n",
    "                                                    y_target, \n",
    "                                                    test_size = 0.2, \n",
    "                                                    random_state = 2023)"
   ]
  },
  {
   "cell_type": "code",
   "execution_count": 37,
   "id": "de143a9f",
   "metadata": {},
   "outputs": [],
   "source": [
    "# StandardScaler() Scaler객체를 생성.\n",
    "std = StandardScaler()\n",
    "\n",
    "# 학습 데이터에 대해서 fit(), transform() 수행.\n",
    "std.fit(X_train)\n",
    "scaled_X_train = std.transform(X_train)\n",
    "scaled_X_test = std.transform(X_test)"
   ]
  },
  {
   "cell_type": "code",
   "execution_count": 38,
   "id": "08cabe2c",
   "metadata": {},
   "outputs": [],
   "source": [
    "# 단일 모델의 RMSE 값 반환\n",
    "# RMSE : 평균 제곱근 오차를 의미하는 평가 지표 -> 이 값이 작을수록 모델의 예측 성능이 우수하다.\n",
    "def get_rmse(model): # 학습된 모델을 받아서 예측\n",
    "    pred = model.predict(scaled_X_test)\n",
    "    mse = mean_squared_error(y_test, pred)\n",
    "    rmse = np.sqrt(mse) # 루트를 씌워서 데이터 간의 격차를 줄여준다.\n",
    "    print('{0} RMSE: {1}'.format(model.__class__.__name__,np.round(rmse, 3)))\n",
    "    return rmse\n",
    "\n",
    "# 여러 모델의 RMSE 값 반환/ 각각의 모델들에 대해서 rmse 를 리턴하는 함수를 만들겠다.\n",
    "def get_rmses(models):\n",
    "    rmses = [] # 반환된 각 모델의 rmse값을 저장한다.\n",
    "    for model in models:\n",
    "        rmse = get_rmse(model)\n",
    "        rmses.append(rmse)    \n",
    "    return rmses # 전달된 모델들의 rmse 값들이 저장된 list 가 반환이 된다."
   ]
  },
  {
   "cell_type": "code",
   "execution_count": 39,
   "id": "9454227a",
   "metadata": {},
   "outputs": [
    {
     "data": {
      "text/html": [
       "<style>#sk-container-id-4 {color: black;}#sk-container-id-4 pre{padding: 0;}#sk-container-id-4 div.sk-toggleable {background-color: white;}#sk-container-id-4 label.sk-toggleable__label {cursor: pointer;display: block;width: 100%;margin-bottom: 0;padding: 0.3em;box-sizing: border-box;text-align: center;}#sk-container-id-4 label.sk-toggleable__label-arrow:before {content: \"▸\";float: left;margin-right: 0.25em;color: #696969;}#sk-container-id-4 label.sk-toggleable__label-arrow:hover:before {color: black;}#sk-container-id-4 div.sk-estimator:hover label.sk-toggleable__label-arrow:before {color: black;}#sk-container-id-4 div.sk-toggleable__content {max-height: 0;max-width: 0;overflow: hidden;text-align: left;background-color: #f0f8ff;}#sk-container-id-4 div.sk-toggleable__content pre {margin: 0.2em;color: black;border-radius: 0.25em;background-color: #f0f8ff;}#sk-container-id-4 input.sk-toggleable__control:checked~div.sk-toggleable__content {max-height: 200px;max-width: 100%;overflow: auto;}#sk-container-id-4 input.sk-toggleable__control:checked~label.sk-toggleable__label-arrow:before {content: \"▾\";}#sk-container-id-4 div.sk-estimator input.sk-toggleable__control:checked~label.sk-toggleable__label {background-color: #d4ebff;}#sk-container-id-4 div.sk-label input.sk-toggleable__control:checked~label.sk-toggleable__label {background-color: #d4ebff;}#sk-container-id-4 input.sk-hidden--visually {border: 0;clip: rect(1px 1px 1px 1px);clip: rect(1px, 1px, 1px, 1px);height: 1px;margin: -1px;overflow: hidden;padding: 0;position: absolute;width: 1px;}#sk-container-id-4 div.sk-estimator {font-family: monospace;background-color: #f0f8ff;border: 1px dotted black;border-radius: 0.25em;box-sizing: border-box;margin-bottom: 0.5em;}#sk-container-id-4 div.sk-estimator:hover {background-color: #d4ebff;}#sk-container-id-4 div.sk-parallel-item::after {content: \"\";width: 100%;border-bottom: 1px solid gray;flex-grow: 1;}#sk-container-id-4 div.sk-label:hover label.sk-toggleable__label {background-color: #d4ebff;}#sk-container-id-4 div.sk-serial::before {content: \"\";position: absolute;border-left: 1px solid gray;box-sizing: border-box;top: 0;bottom: 0;left: 50%;z-index: 0;}#sk-container-id-4 div.sk-serial {display: flex;flex-direction: column;align-items: center;background-color: white;padding-right: 0.2em;padding-left: 0.2em;position: relative;}#sk-container-id-4 div.sk-item {position: relative;z-index: 1;}#sk-container-id-4 div.sk-parallel {display: flex;align-items: stretch;justify-content: center;background-color: white;position: relative;}#sk-container-id-4 div.sk-item::before, #sk-container-id-4 div.sk-parallel-item::before {content: \"\";position: absolute;border-left: 1px solid gray;box-sizing: border-box;top: 0;bottom: 0;left: 50%;z-index: -1;}#sk-container-id-4 div.sk-parallel-item {display: flex;flex-direction: column;z-index: 1;position: relative;background-color: white;}#sk-container-id-4 div.sk-parallel-item:first-child::after {align-self: flex-end;width: 50%;}#sk-container-id-4 div.sk-parallel-item:last-child::after {align-self: flex-start;width: 50%;}#sk-container-id-4 div.sk-parallel-item:only-child::after {width: 0;}#sk-container-id-4 div.sk-dashed-wrapped {border: 1px dashed gray;margin: 0 0.4em 0.5em 0.4em;box-sizing: border-box;padding-bottom: 0.4em;background-color: white;}#sk-container-id-4 div.sk-label label {font-family: monospace;font-weight: bold;display: inline-block;line-height: 1.2em;}#sk-container-id-4 div.sk-label-container {text-align: center;}#sk-container-id-4 div.sk-container {/* jupyter's `normalize.less` sets `[hidden] { display: none; }` but bootstrap.min.css set `[hidden] { display: none !important; }` so we also need the `!important` here to be able to override the default hidden behavior on the sphinx rendered scikit-learn.org. See: https://github.com/scikit-learn/scikit-learn/issues/21755 */display: inline-block !important;position: relative;}#sk-container-id-4 div.sk-text-repr-fallback {display: none;}</style><div id=\"sk-container-id-4\" class=\"sk-top-container\"><div class=\"sk-text-repr-fallback\"><pre>LGBMRegressor()</pre><b>In a Jupyter environment, please rerun this cell to show the HTML representation or trust the notebook. <br />On GitHub, the HTML representation is unable to render, please try loading this page with nbviewer.org.</b></div><div class=\"sk-container\" hidden><div class=\"sk-item\"><div class=\"sk-estimator sk-toggleable\"><input class=\"sk-toggleable__control sk-hidden--visually\" id=\"sk-estimator-id-4\" type=\"checkbox\" checked><label for=\"sk-estimator-id-4\" class=\"sk-toggleable__label sk-toggleable__label-arrow\">LGBMRegressor</label><div class=\"sk-toggleable__content\"><pre>LGBMRegressor()</pre></div></div></div></div></div>"
      ],
      "text/plain": [
       "LGBMRegressor()"
      ]
     },
     "execution_count": 39,
     "metadata": {},
     "output_type": "execute_result"
    }
   ],
   "source": [
    "# 일반 선형 회귀\n",
    "lr_reg = LinearRegression()\n",
    "lr_reg.fit(scaled_X_train, y_train)\n",
    "\n",
    "# 릿찌회귀\n",
    "ridge_reg = Ridge()\n",
    "ridge_reg.fit(scaled_X_train, y_train)\n",
    "\n",
    "# 라쏘 회귀\n",
    "lasso_reg = Lasso()\n",
    "lasso_reg.fit(scaled_X_train, y_train)\n",
    "\n",
    "# 의사결정나무 회귀\n",
    "decision_reg = DecisionTreeRegressor()\n",
    "decision_reg.fit(scaled_X_train, y_train)\n",
    "\n",
    "# 랜덤포레스트 회귀\n",
    "randomforest_reg = RandomForestRegressor()\n",
    "randomforest_reg.fit(scaled_X_train, y_train)\n",
    "\n",
    "# XGboost\n",
    "xgboost_reg = XGBRegressor()\n",
    "xgboost_reg.fit(scaled_X_train, y_train)\n",
    "\n",
    "# Lightgbm\n",
    "lightgbm_reg = LGBMRegressor()\n",
    "lightgbm_reg.fit(scaled_X_train, y_train)"
   ]
  },
  {
   "cell_type": "code",
   "execution_count": 40,
   "id": "0b6853ee",
   "metadata": {},
   "outputs": [
    {
     "name": "stdout",
     "output_type": "stream",
     "text": [
      "LinearRegression RMSE: 0.335\n",
      "Ridge RMSE: 0.335\n",
      "Lasso RMSE: 0.464\n",
      "DecisionTreeRegressor RMSE: 0.352\n",
      "RandomForestRegressor RMSE: 0.262\n",
      "XGBRegressor RMSE: 0.256\n",
      "LGBMRegressor RMSE: 0.262\n"
     ]
    },
    {
     "data": {
      "text/plain": [
       "[0.335187707554292,\n",
       " 0.33518935025595026,\n",
       " 0.4640663024439999,\n",
       " 0.352293772669501,\n",
       " 0.26174111848223364,\n",
       " 0.2560898537591888,\n",
       " 0.26168777804083554]"
      ]
     },
     "execution_count": 40,
     "metadata": {},
     "output_type": "execute_result"
    }
   ],
   "source": [
    "#학습된 모델 전달하고\n",
    "models = [lr_reg, ridge_reg, lasso_reg, decision_reg, randomforest_reg, xgboost_reg, lightgbm_reg]\n",
    "# rmse값 반환\n",
    "get_rmses(models)"
   ]
  },
  {
   "cell_type": "markdown",
   "id": "8ca56415",
   "metadata": {},
   "source": [
    "# 범주형 제외시키고 결과값보기(별 차이 없다)"
   ]
  },
  {
   "cell_type": "code",
   "execution_count": 41,
   "id": "a678c02a",
   "metadata": {},
   "outputs": [],
   "source": [
    "seongdong = df_org.copy()"
   ]
  },
  {
   "cell_type": "code",
   "execution_count": 42,
   "id": "5c4f5b10",
   "metadata": {},
   "outputs": [],
   "source": [
    "seongdong.drop(seongdong[(seongdong['use_area'] > 100) & (seongdong['total_deposit'] < 20000)].index, inplace=True)"
   ]
  },
  {
   "cell_type": "code",
   "execution_count": 43,
   "id": "6397c61d",
   "metadata": {},
   "outputs": [],
   "source": [
    "seongdong = seongdong[(seongdong['total_deposit'] <= 200000) & (seongdong['total_deposit'] > 1000)]\n",
    "# seongdong = seongdong[seongdong['total_deposit'] > 1000]\n",
    "seongdong = seongdong[seongdong['use_area'] > 1]\n",
    "seongdong.reset_index(drop = True, inplace = True)"
   ]
  },
  {
   "cell_type": "code",
   "execution_count": 44,
   "id": "63c58e65",
   "metadata": {},
   "outputs": [],
   "source": [
    "seongdong['total_deposit'] = np.log1p(seongdong['total_deposit'])"
   ]
  },
  {
   "cell_type": "code",
   "execution_count": 45,
   "id": "e5ed6dfd",
   "metadata": {},
   "outputs": [],
   "source": [
    "seongdong.drop(['date', 'dong'], axis = 1, inplace = True)"
   ]
  },
  {
   "cell_type": "code",
   "execution_count": 46,
   "id": "9f083619",
   "metadata": {},
   "outputs": [],
   "source": [
    "# 타깃과 피처\n",
    "y_target = seongdong_ohe['total_deposit']\n",
    "X_features = seongdong_ohe.drop('total_deposit', axis = 1, inplace = False)\n",
    "\n",
    "X_train, X_test, y_train, y_test = train_test_split(X_features, \n",
    "                                                    y_target, \n",
    "                                                    test_size = 0.2, \n",
    "                                                    random_state = 2023)"
   ]
  },
  {
   "cell_type": "code",
   "execution_count": 47,
   "id": "7a1b3d3e",
   "metadata": {},
   "outputs": [],
   "source": [
    "# StandardScaler() Scaler객체를 생성.\n",
    "std = StandardScaler()\n",
    "\n",
    "# 학습 데이터에 대해서 fit(), transform() 수행.\n",
    "std.fit(X_train)\n",
    "scaled_X_train = std.transform(X_train)\n",
    "scaled_X_test = std.transform(X_test)"
   ]
  },
  {
   "cell_type": "code",
   "execution_count": 48,
   "id": "4359c185",
   "metadata": {},
   "outputs": [],
   "source": [
    "# 단일 모델의 RMSE 값 반환\n",
    "# RMSE : 평균 제곱근 오차를 의미하는 평가 지표 -> 이 값이 작을수록 모델의 예측 성능이 우수하다.\n",
    "def get_rmse(model): # 학습된 모델을 받아서 예측\n",
    "    pred = model.predict(scaled_X_test)\n",
    "    mse = mean_squared_error(y_test, pred)\n",
    "    rmse = np.sqrt(mse) # 루트를 씌워서 데이터 간의 격차를 줄여준다.\n",
    "    print('{0} RMSE: {1}'.format(model.__class__.__name__,np.round(rmse, 3)))\n",
    "    return rmse\n",
    "\n",
    "# 여러 모델의 RMSE 값 반환/ 각각의 모델들에 대해서 rmse 를 리턴하는 함수를 만들겠다.\n",
    "def get_rmses(models):\n",
    "    rmses = [] # 반환된 각 모델의 rmse값을 저장한다.\n",
    "    for model in models:\n",
    "        rmse = get_rmse(model)\n",
    "        rmses.append(rmse)    \n",
    "    return rmses # 전달된 모델들의 rmse 값들이 저장된 list 가 반환이 된다."
   ]
  },
  {
   "cell_type": "code",
   "execution_count": 49,
   "id": "c2edb011",
   "metadata": {},
   "outputs": [
    {
     "data": {
      "text/html": [
       "<style>#sk-container-id-5 {color: black;}#sk-container-id-5 pre{padding: 0;}#sk-container-id-5 div.sk-toggleable {background-color: white;}#sk-container-id-5 label.sk-toggleable__label {cursor: pointer;display: block;width: 100%;margin-bottom: 0;padding: 0.3em;box-sizing: border-box;text-align: center;}#sk-container-id-5 label.sk-toggleable__label-arrow:before {content: \"▸\";float: left;margin-right: 0.25em;color: #696969;}#sk-container-id-5 label.sk-toggleable__label-arrow:hover:before {color: black;}#sk-container-id-5 div.sk-estimator:hover label.sk-toggleable__label-arrow:before {color: black;}#sk-container-id-5 div.sk-toggleable__content {max-height: 0;max-width: 0;overflow: hidden;text-align: left;background-color: #f0f8ff;}#sk-container-id-5 div.sk-toggleable__content pre {margin: 0.2em;color: black;border-radius: 0.25em;background-color: #f0f8ff;}#sk-container-id-5 input.sk-toggleable__control:checked~div.sk-toggleable__content {max-height: 200px;max-width: 100%;overflow: auto;}#sk-container-id-5 input.sk-toggleable__control:checked~label.sk-toggleable__label-arrow:before {content: \"▾\";}#sk-container-id-5 div.sk-estimator input.sk-toggleable__control:checked~label.sk-toggleable__label {background-color: #d4ebff;}#sk-container-id-5 div.sk-label input.sk-toggleable__control:checked~label.sk-toggleable__label {background-color: #d4ebff;}#sk-container-id-5 input.sk-hidden--visually {border: 0;clip: rect(1px 1px 1px 1px);clip: rect(1px, 1px, 1px, 1px);height: 1px;margin: -1px;overflow: hidden;padding: 0;position: absolute;width: 1px;}#sk-container-id-5 div.sk-estimator {font-family: monospace;background-color: #f0f8ff;border: 1px dotted black;border-radius: 0.25em;box-sizing: border-box;margin-bottom: 0.5em;}#sk-container-id-5 div.sk-estimator:hover {background-color: #d4ebff;}#sk-container-id-5 div.sk-parallel-item::after {content: \"\";width: 100%;border-bottom: 1px solid gray;flex-grow: 1;}#sk-container-id-5 div.sk-label:hover label.sk-toggleable__label {background-color: #d4ebff;}#sk-container-id-5 div.sk-serial::before {content: \"\";position: absolute;border-left: 1px solid gray;box-sizing: border-box;top: 0;bottom: 0;left: 50%;z-index: 0;}#sk-container-id-5 div.sk-serial {display: flex;flex-direction: column;align-items: center;background-color: white;padding-right: 0.2em;padding-left: 0.2em;position: relative;}#sk-container-id-5 div.sk-item {position: relative;z-index: 1;}#sk-container-id-5 div.sk-parallel {display: flex;align-items: stretch;justify-content: center;background-color: white;position: relative;}#sk-container-id-5 div.sk-item::before, #sk-container-id-5 div.sk-parallel-item::before {content: \"\";position: absolute;border-left: 1px solid gray;box-sizing: border-box;top: 0;bottom: 0;left: 50%;z-index: -1;}#sk-container-id-5 div.sk-parallel-item {display: flex;flex-direction: column;z-index: 1;position: relative;background-color: white;}#sk-container-id-5 div.sk-parallel-item:first-child::after {align-self: flex-end;width: 50%;}#sk-container-id-5 div.sk-parallel-item:last-child::after {align-self: flex-start;width: 50%;}#sk-container-id-5 div.sk-parallel-item:only-child::after {width: 0;}#sk-container-id-5 div.sk-dashed-wrapped {border: 1px dashed gray;margin: 0 0.4em 0.5em 0.4em;box-sizing: border-box;padding-bottom: 0.4em;background-color: white;}#sk-container-id-5 div.sk-label label {font-family: monospace;font-weight: bold;display: inline-block;line-height: 1.2em;}#sk-container-id-5 div.sk-label-container {text-align: center;}#sk-container-id-5 div.sk-container {/* jupyter's `normalize.less` sets `[hidden] { display: none; }` but bootstrap.min.css set `[hidden] { display: none !important; }` so we also need the `!important` here to be able to override the default hidden behavior on the sphinx rendered scikit-learn.org. See: https://github.com/scikit-learn/scikit-learn/issues/21755 */display: inline-block !important;position: relative;}#sk-container-id-5 div.sk-text-repr-fallback {display: none;}</style><div id=\"sk-container-id-5\" class=\"sk-top-container\"><div class=\"sk-text-repr-fallback\"><pre>LGBMRegressor()</pre><b>In a Jupyter environment, please rerun this cell to show the HTML representation or trust the notebook. <br />On GitHub, the HTML representation is unable to render, please try loading this page with nbviewer.org.</b></div><div class=\"sk-container\" hidden><div class=\"sk-item\"><div class=\"sk-estimator sk-toggleable\"><input class=\"sk-toggleable__control sk-hidden--visually\" id=\"sk-estimator-id-5\" type=\"checkbox\" checked><label for=\"sk-estimator-id-5\" class=\"sk-toggleable__label sk-toggleable__label-arrow\">LGBMRegressor</label><div class=\"sk-toggleable__content\"><pre>LGBMRegressor()</pre></div></div></div></div></div>"
      ],
      "text/plain": [
       "LGBMRegressor()"
      ]
     },
     "execution_count": 49,
     "metadata": {},
     "output_type": "execute_result"
    }
   ],
   "source": [
    "# 일반 선형 회귀\n",
    "lr_reg = LinearRegression()\n",
    "lr_reg.fit(scaled_X_train, y_train)\n",
    "\n",
    "# 릿찌회귀\n",
    "ridge_reg = Ridge()\n",
    "ridge_reg.fit(scaled_X_train, y_train)\n",
    "\n",
    "# 라쏘 회귀\n",
    "lasso_reg = Lasso()\n",
    "lasso_reg.fit(scaled_X_train, y_train)\n",
    "\n",
    "# 의사결정나무 회귀\n",
    "decision_reg = DecisionTreeRegressor()\n",
    "decision_reg.fit(scaled_X_train, y_train)\n",
    "\n",
    "# 랜덤포레스트 회귀\n",
    "randomforest_reg = RandomForestRegressor()\n",
    "randomforest_reg.fit(scaled_X_train, y_train)\n",
    "\n",
    "# XGboost\n",
    "xgboost_reg = XGBRegressor()\n",
    "xgboost_reg.fit(scaled_X_train, y_train)\n",
    "\n",
    "# Lightgbm\n",
    "lightgbm_reg = LGBMRegressor()\n",
    "lightgbm_reg.fit(scaled_X_train, y_train)"
   ]
  },
  {
   "cell_type": "code",
   "execution_count": 50,
   "id": "2ae8a3fa",
   "metadata": {},
   "outputs": [
    {
     "name": "stdout",
     "output_type": "stream",
     "text": [
      "LinearRegression RMSE: 0.335\n",
      "Ridge RMSE: 0.335\n",
      "Lasso RMSE: 0.464\n",
      "DecisionTreeRegressor RMSE: 0.356\n",
      "RandomForestRegressor RMSE: 0.26\n",
      "XGBRegressor RMSE: 0.256\n",
      "LGBMRegressor RMSE: 0.262\n"
     ]
    },
    {
     "data": {
      "text/plain": [
       "[0.335187707554292,\n",
       " 0.33518935025595026,\n",
       " 0.4640663024439999,\n",
       " 0.35557041743914813,\n",
       " 0.26035481620570294,\n",
       " 0.2560898537591888,\n",
       " 0.26168777804083554]"
      ]
     },
     "execution_count": 50,
     "metadata": {},
     "output_type": "execute_result"
    }
   ],
   "source": [
    "#학습된 모델 전달하고\n",
    "models = [lr_reg, ridge_reg, lasso_reg, decision_reg, randomforest_reg, xgboost_reg, lightgbm_reg]\n",
    "# rmse값 반환\n",
    "get_rmses(models)"
   ]
  },
  {
   "cell_type": "markdown",
   "id": "4864318a",
   "metadata": {},
   "source": [
    "## 하이퍼 파라미터 설정"
   ]
  },
  {
   "cell_type": "markdown",
   "id": "07b9024d",
   "metadata": {},
   "source": [
    "## Ridge, Lasso"
   ]
  },
  {
   "cell_type": "code",
   "execution_count": 51,
   "id": "a43648be",
   "metadata": {},
   "outputs": [],
   "source": [
    "def get_best_params(model, params):\n",
    "    grid_model = GridSearchCV(model, param_grid = params,\n",
    "                             scoring = 'neg_mean_squared_error', cv = 5)\n",
    "    grid_model.fit(scaled_X_train, y_train)\n",
    "    rmse = np.sqrt(-1 * grid_model.best_score_)\n",
    " \n",
    "    print('{0} 5 CV 시 최적 RMSE 값: {1}, 최적 alpha:{2}'.format(model.__class__.__name__,\n",
    "                                        np.round(rmse, 4), grid_model.best_params_))\n",
    "    return grid_model.best_estimator_ # 최적 파라미터로 재학습되어 저장된 모델 반환"
   ]
  },
  {
   "cell_type": "code",
   "execution_count": 52,
   "id": "f3528817",
   "metadata": {},
   "outputs": [],
   "source": [
    "ridge_params = {'alpha' : [5, 10, 15, 20, 30, 40]}\n",
    "lasso_params = {'alpha' : [0.001, 0.005, 0.05, 0.01, 0.1, 0.5]}"
   ]
  },
  {
   "cell_type": "code",
   "execution_count": 53,
   "id": "a55981ff",
   "metadata": {},
   "outputs": [
    {
     "name": "stdout",
     "output_type": "stream",
     "text": [
      "Ridge 5 CV 시 최적 RMSE 값: 0.3308, 최적 alpha:{'alpha': 10}\n",
      "Lasso 5 CV 시 최적 RMSE 값: 0.3308, 최적 alpha:{'alpha': 0.001}\n"
     ]
    }
   ],
   "source": [
    "best_ridge = get_best_params(ridge_reg, ridge_params)\n",
    "best_lasso = get_best_params(lasso_reg, lasso_params)"
   ]
  },
  {
   "cell_type": "code",
   "execution_count": 54,
   "id": "e177c66f",
   "metadata": {},
   "outputs": [
    {
     "data": {
      "text/html": [
       "<style>#sk-container-id-6 {color: black;}#sk-container-id-6 pre{padding: 0;}#sk-container-id-6 div.sk-toggleable {background-color: white;}#sk-container-id-6 label.sk-toggleable__label {cursor: pointer;display: block;width: 100%;margin-bottom: 0;padding: 0.3em;box-sizing: border-box;text-align: center;}#sk-container-id-6 label.sk-toggleable__label-arrow:before {content: \"▸\";float: left;margin-right: 0.25em;color: #696969;}#sk-container-id-6 label.sk-toggleable__label-arrow:hover:before {color: black;}#sk-container-id-6 div.sk-estimator:hover label.sk-toggleable__label-arrow:before {color: black;}#sk-container-id-6 div.sk-toggleable__content {max-height: 0;max-width: 0;overflow: hidden;text-align: left;background-color: #f0f8ff;}#sk-container-id-6 div.sk-toggleable__content pre {margin: 0.2em;color: black;border-radius: 0.25em;background-color: #f0f8ff;}#sk-container-id-6 input.sk-toggleable__control:checked~div.sk-toggleable__content {max-height: 200px;max-width: 100%;overflow: auto;}#sk-container-id-6 input.sk-toggleable__control:checked~label.sk-toggleable__label-arrow:before {content: \"▾\";}#sk-container-id-6 div.sk-estimator input.sk-toggleable__control:checked~label.sk-toggleable__label {background-color: #d4ebff;}#sk-container-id-6 div.sk-label input.sk-toggleable__control:checked~label.sk-toggleable__label {background-color: #d4ebff;}#sk-container-id-6 input.sk-hidden--visually {border: 0;clip: rect(1px 1px 1px 1px);clip: rect(1px, 1px, 1px, 1px);height: 1px;margin: -1px;overflow: hidden;padding: 0;position: absolute;width: 1px;}#sk-container-id-6 div.sk-estimator {font-family: monospace;background-color: #f0f8ff;border: 1px dotted black;border-radius: 0.25em;box-sizing: border-box;margin-bottom: 0.5em;}#sk-container-id-6 div.sk-estimator:hover {background-color: #d4ebff;}#sk-container-id-6 div.sk-parallel-item::after {content: \"\";width: 100%;border-bottom: 1px solid gray;flex-grow: 1;}#sk-container-id-6 div.sk-label:hover label.sk-toggleable__label {background-color: #d4ebff;}#sk-container-id-6 div.sk-serial::before {content: \"\";position: absolute;border-left: 1px solid gray;box-sizing: border-box;top: 0;bottom: 0;left: 50%;z-index: 0;}#sk-container-id-6 div.sk-serial {display: flex;flex-direction: column;align-items: center;background-color: white;padding-right: 0.2em;padding-left: 0.2em;position: relative;}#sk-container-id-6 div.sk-item {position: relative;z-index: 1;}#sk-container-id-6 div.sk-parallel {display: flex;align-items: stretch;justify-content: center;background-color: white;position: relative;}#sk-container-id-6 div.sk-item::before, #sk-container-id-6 div.sk-parallel-item::before {content: \"\";position: absolute;border-left: 1px solid gray;box-sizing: border-box;top: 0;bottom: 0;left: 50%;z-index: -1;}#sk-container-id-6 div.sk-parallel-item {display: flex;flex-direction: column;z-index: 1;position: relative;background-color: white;}#sk-container-id-6 div.sk-parallel-item:first-child::after {align-self: flex-end;width: 50%;}#sk-container-id-6 div.sk-parallel-item:last-child::after {align-self: flex-start;width: 50%;}#sk-container-id-6 div.sk-parallel-item:only-child::after {width: 0;}#sk-container-id-6 div.sk-dashed-wrapped {border: 1px dashed gray;margin: 0 0.4em 0.5em 0.4em;box-sizing: border-box;padding-bottom: 0.4em;background-color: white;}#sk-container-id-6 div.sk-label label {font-family: monospace;font-weight: bold;display: inline-block;line-height: 1.2em;}#sk-container-id-6 div.sk-label-container {text-align: center;}#sk-container-id-6 div.sk-container {/* jupyter's `normalize.less` sets `[hidden] { display: none; }` but bootstrap.min.css set `[hidden] { display: none !important; }` so we also need the `!important` here to be able to override the default hidden behavior on the sphinx rendered scikit-learn.org. See: https://github.com/scikit-learn/scikit-learn/issues/21755 */display: inline-block !important;position: relative;}#sk-container-id-6 div.sk-text-repr-fallback {display: none;}</style><div id=\"sk-container-id-6\" class=\"sk-top-container\"><div class=\"sk-text-repr-fallback\"><pre>Lasso(alpha=0.001)</pre><b>In a Jupyter environment, please rerun this cell to show the HTML representation or trust the notebook. <br />On GitHub, the HTML representation is unable to render, please try loading this page with nbviewer.org.</b></div><div class=\"sk-container\" hidden><div class=\"sk-item\"><div class=\"sk-estimator sk-toggleable\"><input class=\"sk-toggleable__control sk-hidden--visually\" id=\"sk-estimator-id-6\" type=\"checkbox\" checked><label for=\"sk-estimator-id-6\" class=\"sk-toggleable__label sk-toggleable__label-arrow\">Lasso</label><div class=\"sk-toggleable__content\"><pre>Lasso(alpha=0.001)</pre></div></div></div></div></div>"
      ],
      "text/plain": [
       "Lasso(alpha=0.001)"
      ]
     },
     "execution_count": 54,
     "metadata": {},
     "output_type": "execute_result"
    }
   ],
   "source": [
    "ridge_reg = Ridge(alpha = 10)\n",
    "ridge_reg.fit(scaled_X_train, y_train)\n",
    "\n",
    "lasso_reg = Lasso(alpha = 0.001)\n",
    "lasso_reg.fit(scaled_X_train, y_train)"
   ]
  },
  {
   "cell_type": "markdown",
   "id": "6762ff23",
   "metadata": {},
   "source": [
    "## RandomForest"
   ]
  },
  {
   "cell_type": "code",
   "execution_count": 55,
   "id": "98865ebf",
   "metadata": {},
   "outputs": [
    {
     "name": "stdout",
     "output_type": "stream",
     "text": [
      "최적 하이퍼 파라미터:\n",
      " {'max_depth': 20, 'min_samples_leaf': 2, 'min_samples_split': 2, 'n_estimators': 100}\n",
      "최고 예측 정확도: 0.6537\n"
     ]
    }
   ],
   "source": [
    "# 테스트해볼 데이터(파라미터 값)를 많이 넣으면 기하급수적으로 늘어난다\n",
    "params = {\n",
    "    'n_estimators': [100],\n",
    "    'max_depth': [16, 18, 20, 22, 24],\n",
    "    'min_samples_split': [2, 4, 6, 8],\n",
    "    'min_samples_leaf': [2, 4, 6, 8]\n",
    "}\n",
    "\n",
    "randomforest_reg = RandomForestRegressor(random_state = 2023, n_jobs=-1)\n",
    "\n",
    "grid_cv = GridSearchCV(randomforest_reg, param_grid=params, cv=2, n_jobs=-1)\n",
    "grid_cv.fit(scaled_X_train, y_train)\n",
    "\n",
    "print('최적 하이퍼 파라미터:\\n', grid_cv.best_params_)\n",
    "print('최고 예측 정확도: {0:.4f}'.format(grid_cv.best_score_))"
   ]
  },
  {
   "cell_type": "code",
   "execution_count": 56,
   "id": "ea361777",
   "metadata": {},
   "outputs": [
    {
     "data": {
      "text/html": [
       "<style>#sk-container-id-7 {color: black;}#sk-container-id-7 pre{padding: 0;}#sk-container-id-7 div.sk-toggleable {background-color: white;}#sk-container-id-7 label.sk-toggleable__label {cursor: pointer;display: block;width: 100%;margin-bottom: 0;padding: 0.3em;box-sizing: border-box;text-align: center;}#sk-container-id-7 label.sk-toggleable__label-arrow:before {content: \"▸\";float: left;margin-right: 0.25em;color: #696969;}#sk-container-id-7 label.sk-toggleable__label-arrow:hover:before {color: black;}#sk-container-id-7 div.sk-estimator:hover label.sk-toggleable__label-arrow:before {color: black;}#sk-container-id-7 div.sk-toggleable__content {max-height: 0;max-width: 0;overflow: hidden;text-align: left;background-color: #f0f8ff;}#sk-container-id-7 div.sk-toggleable__content pre {margin: 0.2em;color: black;border-radius: 0.25em;background-color: #f0f8ff;}#sk-container-id-7 input.sk-toggleable__control:checked~div.sk-toggleable__content {max-height: 200px;max-width: 100%;overflow: auto;}#sk-container-id-7 input.sk-toggleable__control:checked~label.sk-toggleable__label-arrow:before {content: \"▾\";}#sk-container-id-7 div.sk-estimator input.sk-toggleable__control:checked~label.sk-toggleable__label {background-color: #d4ebff;}#sk-container-id-7 div.sk-label input.sk-toggleable__control:checked~label.sk-toggleable__label {background-color: #d4ebff;}#sk-container-id-7 input.sk-hidden--visually {border: 0;clip: rect(1px 1px 1px 1px);clip: rect(1px, 1px, 1px, 1px);height: 1px;margin: -1px;overflow: hidden;padding: 0;position: absolute;width: 1px;}#sk-container-id-7 div.sk-estimator {font-family: monospace;background-color: #f0f8ff;border: 1px dotted black;border-radius: 0.25em;box-sizing: border-box;margin-bottom: 0.5em;}#sk-container-id-7 div.sk-estimator:hover {background-color: #d4ebff;}#sk-container-id-7 div.sk-parallel-item::after {content: \"\";width: 100%;border-bottom: 1px solid gray;flex-grow: 1;}#sk-container-id-7 div.sk-label:hover label.sk-toggleable__label {background-color: #d4ebff;}#sk-container-id-7 div.sk-serial::before {content: \"\";position: absolute;border-left: 1px solid gray;box-sizing: border-box;top: 0;bottom: 0;left: 50%;z-index: 0;}#sk-container-id-7 div.sk-serial {display: flex;flex-direction: column;align-items: center;background-color: white;padding-right: 0.2em;padding-left: 0.2em;position: relative;}#sk-container-id-7 div.sk-item {position: relative;z-index: 1;}#sk-container-id-7 div.sk-parallel {display: flex;align-items: stretch;justify-content: center;background-color: white;position: relative;}#sk-container-id-7 div.sk-item::before, #sk-container-id-7 div.sk-parallel-item::before {content: \"\";position: absolute;border-left: 1px solid gray;box-sizing: border-box;top: 0;bottom: 0;left: 50%;z-index: -1;}#sk-container-id-7 div.sk-parallel-item {display: flex;flex-direction: column;z-index: 1;position: relative;background-color: white;}#sk-container-id-7 div.sk-parallel-item:first-child::after {align-self: flex-end;width: 50%;}#sk-container-id-7 div.sk-parallel-item:last-child::after {align-self: flex-start;width: 50%;}#sk-container-id-7 div.sk-parallel-item:only-child::after {width: 0;}#sk-container-id-7 div.sk-dashed-wrapped {border: 1px dashed gray;margin: 0 0.4em 0.5em 0.4em;box-sizing: border-box;padding-bottom: 0.4em;background-color: white;}#sk-container-id-7 div.sk-label label {font-family: monospace;font-weight: bold;display: inline-block;line-height: 1.2em;}#sk-container-id-7 div.sk-label-container {text-align: center;}#sk-container-id-7 div.sk-container {/* jupyter's `normalize.less` sets `[hidden] { display: none; }` but bootstrap.min.css set `[hidden] { display: none !important; }` so we also need the `!important` here to be able to override the default hidden behavior on the sphinx rendered scikit-learn.org. See: https://github.com/scikit-learn/scikit-learn/issues/21755 */display: inline-block !important;position: relative;}#sk-container-id-7 div.sk-text-repr-fallback {display: none;}</style><div id=\"sk-container-id-7\" class=\"sk-top-container\"><div class=\"sk-text-repr-fallback\"><pre>RandomForestRegressor(max_depth=20, min_samples_leaf=2, min_samples_split=4,\n",
       "                      n_jobs=-1, random_state=2023)</pre><b>In a Jupyter environment, please rerun this cell to show the HTML representation or trust the notebook. <br />On GitHub, the HTML representation is unable to render, please try loading this page with nbviewer.org.</b></div><div class=\"sk-container\" hidden><div class=\"sk-item\"><div class=\"sk-estimator sk-toggleable\"><input class=\"sk-toggleable__control sk-hidden--visually\" id=\"sk-estimator-id-7\" type=\"checkbox\" checked><label for=\"sk-estimator-id-7\" class=\"sk-toggleable__label sk-toggleable__label-arrow\">RandomForestRegressor</label><div class=\"sk-toggleable__content\"><pre>RandomForestRegressor(max_depth=20, min_samples_leaf=2, min_samples_split=4,\n",
       "                      n_jobs=-1, random_state=2023)</pre></div></div></div></div></div>"
      ],
      "text/plain": [
       "RandomForestRegressor(max_depth=20, min_samples_leaf=2, min_samples_split=4,\n",
       "                      n_jobs=-1, random_state=2023)"
      ]
     },
     "execution_count": 56,
     "metadata": {},
     "output_type": "execute_result"
    }
   ],
   "source": [
    "randomforest_reg = RandomForestRegressor(n_estimators=100, max_depth=20, min_samples_leaf=2, min_samples_split = 4,\n",
    "                                 random_state=2023, n_jobs=-1)\n",
    "randomforest_reg.fit(scaled_X_train, y_train)"
   ]
  },
  {
   "cell_type": "markdown",
   "id": "be642fce",
   "metadata": {},
   "source": [
    "## XGboost"
   ]
  },
  {
   "cell_type": "code",
   "execution_count": 57,
   "id": "3d817d4e",
   "metadata": {},
   "outputs": [
    {
     "name": "stdout",
     "output_type": "stream",
     "text": [
      "최적의 하이퍼파라미터: {'learning_rate': 0.1, 'max_depth': 5, 'n_estimators': 500, 'random_state': 1}\n"
     ]
    }
   ],
   "source": [
    "param_grid = {\n",
    "    'n_estimators': [300, 400, 500],\n",
    "    'max_depth': [3, 4, 5, 6, 7, 10], \n",
    "    'learning_rate' : [0.1, 0.2, 0.3], \n",
    "    'random_state' : [1, 10, 20] \n",
    "\n",
    "}\n",
    "\n",
    "# 그리드 서치 객체 생성\n",
    "grid_search = GridSearchCV(estimator=xgboost_reg, param_grid = param_grid, scoring='neg_mean_squared_error', cv=5, n_jobs=-1)\n",
    "\n",
    "# 그리드 서치 수행\n",
    "grid_search.fit(scaled_X_train, y_train)\n",
    "\n",
    "# 최적의 하이퍼파라미터 출력\n",
    "print(\"최적의 하이퍼파라미터:\", grid_search.best_params_)"
   ]
  },
  {
   "cell_type": "code",
   "execution_count": 58,
   "id": "4a636874",
   "metadata": {},
   "outputs": [
    {
     "data": {
      "text/html": [
       "<style>#sk-container-id-8 {color: black;}#sk-container-id-8 pre{padding: 0;}#sk-container-id-8 div.sk-toggleable {background-color: white;}#sk-container-id-8 label.sk-toggleable__label {cursor: pointer;display: block;width: 100%;margin-bottom: 0;padding: 0.3em;box-sizing: border-box;text-align: center;}#sk-container-id-8 label.sk-toggleable__label-arrow:before {content: \"▸\";float: left;margin-right: 0.25em;color: #696969;}#sk-container-id-8 label.sk-toggleable__label-arrow:hover:before {color: black;}#sk-container-id-8 div.sk-estimator:hover label.sk-toggleable__label-arrow:before {color: black;}#sk-container-id-8 div.sk-toggleable__content {max-height: 0;max-width: 0;overflow: hidden;text-align: left;background-color: #f0f8ff;}#sk-container-id-8 div.sk-toggleable__content pre {margin: 0.2em;color: black;border-radius: 0.25em;background-color: #f0f8ff;}#sk-container-id-8 input.sk-toggleable__control:checked~div.sk-toggleable__content {max-height: 200px;max-width: 100%;overflow: auto;}#sk-container-id-8 input.sk-toggleable__control:checked~label.sk-toggleable__label-arrow:before {content: \"▾\";}#sk-container-id-8 div.sk-estimator input.sk-toggleable__control:checked~label.sk-toggleable__label {background-color: #d4ebff;}#sk-container-id-8 div.sk-label input.sk-toggleable__control:checked~label.sk-toggleable__label {background-color: #d4ebff;}#sk-container-id-8 input.sk-hidden--visually {border: 0;clip: rect(1px 1px 1px 1px);clip: rect(1px, 1px, 1px, 1px);height: 1px;margin: -1px;overflow: hidden;padding: 0;position: absolute;width: 1px;}#sk-container-id-8 div.sk-estimator {font-family: monospace;background-color: #f0f8ff;border: 1px dotted black;border-radius: 0.25em;box-sizing: border-box;margin-bottom: 0.5em;}#sk-container-id-8 div.sk-estimator:hover {background-color: #d4ebff;}#sk-container-id-8 div.sk-parallel-item::after {content: \"\";width: 100%;border-bottom: 1px solid gray;flex-grow: 1;}#sk-container-id-8 div.sk-label:hover label.sk-toggleable__label {background-color: #d4ebff;}#sk-container-id-8 div.sk-serial::before {content: \"\";position: absolute;border-left: 1px solid gray;box-sizing: border-box;top: 0;bottom: 0;left: 50%;z-index: 0;}#sk-container-id-8 div.sk-serial {display: flex;flex-direction: column;align-items: center;background-color: white;padding-right: 0.2em;padding-left: 0.2em;position: relative;}#sk-container-id-8 div.sk-item {position: relative;z-index: 1;}#sk-container-id-8 div.sk-parallel {display: flex;align-items: stretch;justify-content: center;background-color: white;position: relative;}#sk-container-id-8 div.sk-item::before, #sk-container-id-8 div.sk-parallel-item::before {content: \"\";position: absolute;border-left: 1px solid gray;box-sizing: border-box;top: 0;bottom: 0;left: 50%;z-index: -1;}#sk-container-id-8 div.sk-parallel-item {display: flex;flex-direction: column;z-index: 1;position: relative;background-color: white;}#sk-container-id-8 div.sk-parallel-item:first-child::after {align-self: flex-end;width: 50%;}#sk-container-id-8 div.sk-parallel-item:last-child::after {align-self: flex-start;width: 50%;}#sk-container-id-8 div.sk-parallel-item:only-child::after {width: 0;}#sk-container-id-8 div.sk-dashed-wrapped {border: 1px dashed gray;margin: 0 0.4em 0.5em 0.4em;box-sizing: border-box;padding-bottom: 0.4em;background-color: white;}#sk-container-id-8 div.sk-label label {font-family: monospace;font-weight: bold;display: inline-block;line-height: 1.2em;}#sk-container-id-8 div.sk-label-container {text-align: center;}#sk-container-id-8 div.sk-container {/* jupyter's `normalize.less` sets `[hidden] { display: none; }` but bootstrap.min.css set `[hidden] { display: none !important; }` so we also need the `!important` here to be able to override the default hidden behavior on the sphinx rendered scikit-learn.org. See: https://github.com/scikit-learn/scikit-learn/issues/21755 */display: inline-block !important;position: relative;}#sk-container-id-8 div.sk-text-repr-fallback {display: none;}</style><div id=\"sk-container-id-8\" class=\"sk-top-container\"><div class=\"sk-text-repr-fallback\"><pre>XGBRegressor(base_score=None, booster=None, callbacks=None,\n",
       "             colsample_bylevel=None, colsample_bynode=None,\n",
       "             colsample_bytree=None, early_stopping_rounds=None,\n",
       "             enable_categorical=False, eval_metric=None, feature_types=None,\n",
       "             gamma=None, gpu_id=None, grow_policy=None, importance_type=None,\n",
       "             interaction_constraints=None, learning_rate=0.1, max_bin=None,\n",
       "             max_cat_threshold=None, max_cat_to_onehot=None,\n",
       "             max_delta_step=None, max_depth=5, max_leaves=None,\n",
       "             min_child_weight=None, missing=nan, monotone_constraints=None,\n",
       "             n_estimators=500, n_jobs=None, num_parallel_tree=None,\n",
       "             predictor=None, random_state=1, ...)</pre><b>In a Jupyter environment, please rerun this cell to show the HTML representation or trust the notebook. <br />On GitHub, the HTML representation is unable to render, please try loading this page with nbviewer.org.</b></div><div class=\"sk-container\" hidden><div class=\"sk-item\"><div class=\"sk-estimator sk-toggleable\"><input class=\"sk-toggleable__control sk-hidden--visually\" id=\"sk-estimator-id-8\" type=\"checkbox\" checked><label for=\"sk-estimator-id-8\" class=\"sk-toggleable__label sk-toggleable__label-arrow\">XGBRegressor</label><div class=\"sk-toggleable__content\"><pre>XGBRegressor(base_score=None, booster=None, callbacks=None,\n",
       "             colsample_bylevel=None, colsample_bynode=None,\n",
       "             colsample_bytree=None, early_stopping_rounds=None,\n",
       "             enable_categorical=False, eval_metric=None, feature_types=None,\n",
       "             gamma=None, gpu_id=None, grow_policy=None, importance_type=None,\n",
       "             interaction_constraints=None, learning_rate=0.1, max_bin=None,\n",
       "             max_cat_threshold=None, max_cat_to_onehot=None,\n",
       "             max_delta_step=None, max_depth=5, max_leaves=None,\n",
       "             min_child_weight=None, missing=nan, monotone_constraints=None,\n",
       "             n_estimators=500, n_jobs=None, num_parallel_tree=None,\n",
       "             predictor=None, random_state=1, ...)</pre></div></div></div></div></div>"
      ],
      "text/plain": [
       "XGBRegressor(base_score=None, booster=None, callbacks=None,\n",
       "             colsample_bylevel=None, colsample_bynode=None,\n",
       "             colsample_bytree=None, early_stopping_rounds=None,\n",
       "             enable_categorical=False, eval_metric=None, feature_types=None,\n",
       "             gamma=None, gpu_id=None, grow_policy=None, importance_type=None,\n",
       "             interaction_constraints=None, learning_rate=0.1, max_bin=None,\n",
       "             max_cat_threshold=None, max_cat_to_onehot=None,\n",
       "             max_delta_step=None, max_depth=5, max_leaves=None,\n",
       "             min_child_weight=None, missing=nan, monotone_constraints=None,\n",
       "             n_estimators=500, n_jobs=None, num_parallel_tree=None,\n",
       "             predictor=None, random_state=1, ...)"
      ]
     },
     "execution_count": 58,
     "metadata": {},
     "output_type": "execute_result"
    }
   ],
   "source": [
    "xgboost_reg = XGBRegressor(\n",
    "                           n_estimators=500,\n",
    "                           learning_rate=0.1,\n",
    "                           max_depth=5,\n",
    "                           objective='reg:squarederror',\n",
    "                           random_state=1\n",
    ")\n",
    "xgboost_reg.fit(scaled_X_train, y_train)"
   ]
  },
  {
   "cell_type": "markdown",
   "id": "e76fa498",
   "metadata": {},
   "source": [
    "## DecisionTree"
   ]
  },
  {
   "cell_type": "code",
   "execution_count": 59,
   "id": "9984b0ea",
   "metadata": {},
   "outputs": [
    {
     "name": "stdout",
     "output_type": "stream",
     "text": [
      "최적 하이퍼 파라미터:\n",
      " {'max_depth': 14, 'max_features': 'sqrt', 'min_samples_leaf': 12, 'min_samples_split': 2}\n",
      "최고 예측 정확도: 0.5083\n"
     ]
    }
   ],
   "source": [
    "# 테스트해볼 데이터(파라미터 값)를 많이 넣으면 기하급수적으로 늘어난다\n",
    "params = {\n",
    "    'max_features' : ['sqrt', 'log', 'None'],\n",
    "    'max_depth': [2, 4, 6, 8, 10, 12, 14, 16],\n",
    "    'min_samples_split': [2, 4, 6, 8, 10, 12, 14],\n",
    "    'min_samples_leaf': [2, 4, 6, 8, 10, 12, 14]\n",
    "}\n",
    "\n",
    "decision_reg = DecisionTreeRegressor(random_state = 2023)\n",
    "\n",
    "grid_cv = GridSearchCV(decision_reg, param_grid=params, cv=2)\n",
    "grid_cv.fit(scaled_X_train, y_train)\n",
    "\n",
    "print('최적 하이퍼 파라미터:\\n', grid_cv.best_params_)\n",
    "print('최고 예측 정확도: {0:.4f}'.format(grid_cv.best_score_))"
   ]
  },
  {
   "cell_type": "code",
   "execution_count": 60,
   "id": "c381a622",
   "metadata": {},
   "outputs": [
    {
     "data": {
      "text/html": [
       "<style>#sk-container-id-9 {color: black;}#sk-container-id-9 pre{padding: 0;}#sk-container-id-9 div.sk-toggleable {background-color: white;}#sk-container-id-9 label.sk-toggleable__label {cursor: pointer;display: block;width: 100%;margin-bottom: 0;padding: 0.3em;box-sizing: border-box;text-align: center;}#sk-container-id-9 label.sk-toggleable__label-arrow:before {content: \"▸\";float: left;margin-right: 0.25em;color: #696969;}#sk-container-id-9 label.sk-toggleable__label-arrow:hover:before {color: black;}#sk-container-id-9 div.sk-estimator:hover label.sk-toggleable__label-arrow:before {color: black;}#sk-container-id-9 div.sk-toggleable__content {max-height: 0;max-width: 0;overflow: hidden;text-align: left;background-color: #f0f8ff;}#sk-container-id-9 div.sk-toggleable__content pre {margin: 0.2em;color: black;border-radius: 0.25em;background-color: #f0f8ff;}#sk-container-id-9 input.sk-toggleable__control:checked~div.sk-toggleable__content {max-height: 200px;max-width: 100%;overflow: auto;}#sk-container-id-9 input.sk-toggleable__control:checked~label.sk-toggleable__label-arrow:before {content: \"▾\";}#sk-container-id-9 div.sk-estimator input.sk-toggleable__control:checked~label.sk-toggleable__label {background-color: #d4ebff;}#sk-container-id-9 div.sk-label input.sk-toggleable__control:checked~label.sk-toggleable__label {background-color: #d4ebff;}#sk-container-id-9 input.sk-hidden--visually {border: 0;clip: rect(1px 1px 1px 1px);clip: rect(1px, 1px, 1px, 1px);height: 1px;margin: -1px;overflow: hidden;padding: 0;position: absolute;width: 1px;}#sk-container-id-9 div.sk-estimator {font-family: monospace;background-color: #f0f8ff;border: 1px dotted black;border-radius: 0.25em;box-sizing: border-box;margin-bottom: 0.5em;}#sk-container-id-9 div.sk-estimator:hover {background-color: #d4ebff;}#sk-container-id-9 div.sk-parallel-item::after {content: \"\";width: 100%;border-bottom: 1px solid gray;flex-grow: 1;}#sk-container-id-9 div.sk-label:hover label.sk-toggleable__label {background-color: #d4ebff;}#sk-container-id-9 div.sk-serial::before {content: \"\";position: absolute;border-left: 1px solid gray;box-sizing: border-box;top: 0;bottom: 0;left: 50%;z-index: 0;}#sk-container-id-9 div.sk-serial {display: flex;flex-direction: column;align-items: center;background-color: white;padding-right: 0.2em;padding-left: 0.2em;position: relative;}#sk-container-id-9 div.sk-item {position: relative;z-index: 1;}#sk-container-id-9 div.sk-parallel {display: flex;align-items: stretch;justify-content: center;background-color: white;position: relative;}#sk-container-id-9 div.sk-item::before, #sk-container-id-9 div.sk-parallel-item::before {content: \"\";position: absolute;border-left: 1px solid gray;box-sizing: border-box;top: 0;bottom: 0;left: 50%;z-index: -1;}#sk-container-id-9 div.sk-parallel-item {display: flex;flex-direction: column;z-index: 1;position: relative;background-color: white;}#sk-container-id-9 div.sk-parallel-item:first-child::after {align-self: flex-end;width: 50%;}#sk-container-id-9 div.sk-parallel-item:last-child::after {align-self: flex-start;width: 50%;}#sk-container-id-9 div.sk-parallel-item:only-child::after {width: 0;}#sk-container-id-9 div.sk-dashed-wrapped {border: 1px dashed gray;margin: 0 0.4em 0.5em 0.4em;box-sizing: border-box;padding-bottom: 0.4em;background-color: white;}#sk-container-id-9 div.sk-label label {font-family: monospace;font-weight: bold;display: inline-block;line-height: 1.2em;}#sk-container-id-9 div.sk-label-container {text-align: center;}#sk-container-id-9 div.sk-container {/* jupyter's `normalize.less` sets `[hidden] { display: none; }` but bootstrap.min.css set `[hidden] { display: none !important; }` so we also need the `!important` here to be able to override the default hidden behavior on the sphinx rendered scikit-learn.org. See: https://github.com/scikit-learn/scikit-learn/issues/21755 */display: inline-block !important;position: relative;}#sk-container-id-9 div.sk-text-repr-fallback {display: none;}</style><div id=\"sk-container-id-9\" class=\"sk-top-container\"><div class=\"sk-text-repr-fallback\"><pre>DecisionTreeRegressor(max_depth=14, max_features=&#x27;sqrt&#x27;, min_samples_leaf=12)</pre><b>In a Jupyter environment, please rerun this cell to show the HTML representation or trust the notebook. <br />On GitHub, the HTML representation is unable to render, please try loading this page with nbviewer.org.</b></div><div class=\"sk-container\" hidden><div class=\"sk-item\"><div class=\"sk-estimator sk-toggleable\"><input class=\"sk-toggleable__control sk-hidden--visually\" id=\"sk-estimator-id-9\" type=\"checkbox\" checked><label for=\"sk-estimator-id-9\" class=\"sk-toggleable__label sk-toggleable__label-arrow\">DecisionTreeRegressor</label><div class=\"sk-toggleable__content\"><pre>DecisionTreeRegressor(max_depth=14, max_features=&#x27;sqrt&#x27;, min_samples_leaf=12)</pre></div></div></div></div></div>"
      ],
      "text/plain": [
       "DecisionTreeRegressor(max_depth=14, max_features='sqrt', min_samples_leaf=12)"
      ]
     },
     "execution_count": 60,
     "metadata": {},
     "output_type": "execute_result"
    }
   ],
   "source": [
    "decision_reg = DecisionTreeRegressor(max_depth = 14,\n",
    "                                     max_features = 'sqrt',\n",
    "                                     min_samples_leaf = 12,\n",
    "                                     min_samples_split = 2)\n",
    "decision_reg.fit(scaled_X_train, y_train)"
   ]
  },
  {
   "cell_type": "markdown",
   "id": "ce288770",
   "metadata": {},
   "source": [
    "## LightGBM"
   ]
  },
  {
   "cell_type": "code",
   "execution_count": 61,
   "id": "fb17872c",
   "metadata": {},
   "outputs": [
    {
     "data": {
      "text/html": [
       "<style>#sk-container-id-10 {color: black;}#sk-container-id-10 pre{padding: 0;}#sk-container-id-10 div.sk-toggleable {background-color: white;}#sk-container-id-10 label.sk-toggleable__label {cursor: pointer;display: block;width: 100%;margin-bottom: 0;padding: 0.3em;box-sizing: border-box;text-align: center;}#sk-container-id-10 label.sk-toggleable__label-arrow:before {content: \"▸\";float: left;margin-right: 0.25em;color: #696969;}#sk-container-id-10 label.sk-toggleable__label-arrow:hover:before {color: black;}#sk-container-id-10 div.sk-estimator:hover label.sk-toggleable__label-arrow:before {color: black;}#sk-container-id-10 div.sk-toggleable__content {max-height: 0;max-width: 0;overflow: hidden;text-align: left;background-color: #f0f8ff;}#sk-container-id-10 div.sk-toggleable__content pre {margin: 0.2em;color: black;border-radius: 0.25em;background-color: #f0f8ff;}#sk-container-id-10 input.sk-toggleable__control:checked~div.sk-toggleable__content {max-height: 200px;max-width: 100%;overflow: auto;}#sk-container-id-10 input.sk-toggleable__control:checked~label.sk-toggleable__label-arrow:before {content: \"▾\";}#sk-container-id-10 div.sk-estimator input.sk-toggleable__control:checked~label.sk-toggleable__label {background-color: #d4ebff;}#sk-container-id-10 div.sk-label input.sk-toggleable__control:checked~label.sk-toggleable__label {background-color: #d4ebff;}#sk-container-id-10 input.sk-hidden--visually {border: 0;clip: rect(1px 1px 1px 1px);clip: rect(1px, 1px, 1px, 1px);height: 1px;margin: -1px;overflow: hidden;padding: 0;position: absolute;width: 1px;}#sk-container-id-10 div.sk-estimator {font-family: monospace;background-color: #f0f8ff;border: 1px dotted black;border-radius: 0.25em;box-sizing: border-box;margin-bottom: 0.5em;}#sk-container-id-10 div.sk-estimator:hover {background-color: #d4ebff;}#sk-container-id-10 div.sk-parallel-item::after {content: \"\";width: 100%;border-bottom: 1px solid gray;flex-grow: 1;}#sk-container-id-10 div.sk-label:hover label.sk-toggleable__label {background-color: #d4ebff;}#sk-container-id-10 div.sk-serial::before {content: \"\";position: absolute;border-left: 1px solid gray;box-sizing: border-box;top: 0;bottom: 0;left: 50%;z-index: 0;}#sk-container-id-10 div.sk-serial {display: flex;flex-direction: column;align-items: center;background-color: white;padding-right: 0.2em;padding-left: 0.2em;position: relative;}#sk-container-id-10 div.sk-item {position: relative;z-index: 1;}#sk-container-id-10 div.sk-parallel {display: flex;align-items: stretch;justify-content: center;background-color: white;position: relative;}#sk-container-id-10 div.sk-item::before, #sk-container-id-10 div.sk-parallel-item::before {content: \"\";position: absolute;border-left: 1px solid gray;box-sizing: border-box;top: 0;bottom: 0;left: 50%;z-index: -1;}#sk-container-id-10 div.sk-parallel-item {display: flex;flex-direction: column;z-index: 1;position: relative;background-color: white;}#sk-container-id-10 div.sk-parallel-item:first-child::after {align-self: flex-end;width: 50%;}#sk-container-id-10 div.sk-parallel-item:last-child::after {align-self: flex-start;width: 50%;}#sk-container-id-10 div.sk-parallel-item:only-child::after {width: 0;}#sk-container-id-10 div.sk-dashed-wrapped {border: 1px dashed gray;margin: 0 0.4em 0.5em 0.4em;box-sizing: border-box;padding-bottom: 0.4em;background-color: white;}#sk-container-id-10 div.sk-label label {font-family: monospace;font-weight: bold;display: inline-block;line-height: 1.2em;}#sk-container-id-10 div.sk-label-container {text-align: center;}#sk-container-id-10 div.sk-container {/* jupyter's `normalize.less` sets `[hidden] { display: none; }` but bootstrap.min.css set `[hidden] { display: none !important; }` so we also need the `!important` here to be able to override the default hidden behavior on the sphinx rendered scikit-learn.org. See: https://github.com/scikit-learn/scikit-learn/issues/21755 */display: inline-block !important;position: relative;}#sk-container-id-10 div.sk-text-repr-fallback {display: none;}</style><div id=\"sk-container-id-10\" class=\"sk-top-container\"><div class=\"sk-text-repr-fallback\"><pre>LGBMRegressor(verbosity=-1)</pre><b>In a Jupyter environment, please rerun this cell to show the HTML representation or trust the notebook. <br />On GitHub, the HTML representation is unable to render, please try loading this page with nbviewer.org.</b></div><div class=\"sk-container\" hidden><div class=\"sk-item\"><div class=\"sk-estimator sk-toggleable\"><input class=\"sk-toggleable__control sk-hidden--visually\" id=\"sk-estimator-id-10\" type=\"checkbox\" checked><label for=\"sk-estimator-id-10\" class=\"sk-toggleable__label sk-toggleable__label-arrow\">LGBMRegressor</label><div class=\"sk-toggleable__content\"><pre>LGBMRegressor(verbosity=-1)</pre></div></div></div></div></div>"
      ],
      "text/plain": [
       "LGBMRegressor(verbosity=-1)"
      ]
     },
     "execution_count": 61,
     "metadata": {},
     "output_type": "execute_result"
    }
   ],
   "source": [
    "# LightGBM 상세도를 줄이기 위해 설정\n",
    "lightgbm_reg.set_params(verbosity=-1)"
   ]
  },
  {
   "cell_type": "code",
   "execution_count": 62,
   "id": "38e12eda",
   "metadata": {},
   "outputs": [],
   "source": [
    "# 하이퍼파라미터 튜닝을 위한 매개변수 그리드 정의\n",
    "param_grid = {\n",
    "    'boosting_type': ['gbdt'],\n",
    "    'learning_rate': [0.01, 0.05, 0.1],\n",
    "    'n_estimators': [100, 200, 300],\n",
    "    'max_depth': [5, 7, 10],\n",
    "    'subsample': [0.8, 0.9, 1.0],\n",
    "    'colsample_bytree': [0.8, 0.9, 1.0]\n",
    "}"
   ]
  },
  {
   "cell_type": "code",
   "execution_count": 63,
   "id": "e8359a49",
   "metadata": {},
   "outputs": [
    {
     "data": {
      "text/html": [
       "<style>#sk-container-id-11 {color: black;}#sk-container-id-11 pre{padding: 0;}#sk-container-id-11 div.sk-toggleable {background-color: white;}#sk-container-id-11 label.sk-toggleable__label {cursor: pointer;display: block;width: 100%;margin-bottom: 0;padding: 0.3em;box-sizing: border-box;text-align: center;}#sk-container-id-11 label.sk-toggleable__label-arrow:before {content: \"▸\";float: left;margin-right: 0.25em;color: #696969;}#sk-container-id-11 label.sk-toggleable__label-arrow:hover:before {color: black;}#sk-container-id-11 div.sk-estimator:hover label.sk-toggleable__label-arrow:before {color: black;}#sk-container-id-11 div.sk-toggleable__content {max-height: 0;max-width: 0;overflow: hidden;text-align: left;background-color: #f0f8ff;}#sk-container-id-11 div.sk-toggleable__content pre {margin: 0.2em;color: black;border-radius: 0.25em;background-color: #f0f8ff;}#sk-container-id-11 input.sk-toggleable__control:checked~div.sk-toggleable__content {max-height: 200px;max-width: 100%;overflow: auto;}#sk-container-id-11 input.sk-toggleable__control:checked~label.sk-toggleable__label-arrow:before {content: \"▾\";}#sk-container-id-11 div.sk-estimator input.sk-toggleable__control:checked~label.sk-toggleable__label {background-color: #d4ebff;}#sk-container-id-11 div.sk-label input.sk-toggleable__control:checked~label.sk-toggleable__label {background-color: #d4ebff;}#sk-container-id-11 input.sk-hidden--visually {border: 0;clip: rect(1px 1px 1px 1px);clip: rect(1px, 1px, 1px, 1px);height: 1px;margin: -1px;overflow: hidden;padding: 0;position: absolute;width: 1px;}#sk-container-id-11 div.sk-estimator {font-family: monospace;background-color: #f0f8ff;border: 1px dotted black;border-radius: 0.25em;box-sizing: border-box;margin-bottom: 0.5em;}#sk-container-id-11 div.sk-estimator:hover {background-color: #d4ebff;}#sk-container-id-11 div.sk-parallel-item::after {content: \"\";width: 100%;border-bottom: 1px solid gray;flex-grow: 1;}#sk-container-id-11 div.sk-label:hover label.sk-toggleable__label {background-color: #d4ebff;}#sk-container-id-11 div.sk-serial::before {content: \"\";position: absolute;border-left: 1px solid gray;box-sizing: border-box;top: 0;bottom: 0;left: 50%;z-index: 0;}#sk-container-id-11 div.sk-serial {display: flex;flex-direction: column;align-items: center;background-color: white;padding-right: 0.2em;padding-left: 0.2em;position: relative;}#sk-container-id-11 div.sk-item {position: relative;z-index: 1;}#sk-container-id-11 div.sk-parallel {display: flex;align-items: stretch;justify-content: center;background-color: white;position: relative;}#sk-container-id-11 div.sk-item::before, #sk-container-id-11 div.sk-parallel-item::before {content: \"\";position: absolute;border-left: 1px solid gray;box-sizing: border-box;top: 0;bottom: 0;left: 50%;z-index: -1;}#sk-container-id-11 div.sk-parallel-item {display: flex;flex-direction: column;z-index: 1;position: relative;background-color: white;}#sk-container-id-11 div.sk-parallel-item:first-child::after {align-self: flex-end;width: 50%;}#sk-container-id-11 div.sk-parallel-item:last-child::after {align-self: flex-start;width: 50%;}#sk-container-id-11 div.sk-parallel-item:only-child::after {width: 0;}#sk-container-id-11 div.sk-dashed-wrapped {border: 1px dashed gray;margin: 0 0.4em 0.5em 0.4em;box-sizing: border-box;padding-bottom: 0.4em;background-color: white;}#sk-container-id-11 div.sk-label label {font-family: monospace;font-weight: bold;display: inline-block;line-height: 1.2em;}#sk-container-id-11 div.sk-label-container {text-align: center;}#sk-container-id-11 div.sk-container {/* jupyter's `normalize.less` sets `[hidden] { display: none; }` but bootstrap.min.css set `[hidden] { display: none !important; }` so we also need the `!important` here to be able to override the default hidden behavior on the sphinx rendered scikit-learn.org. See: https://github.com/scikit-learn/scikit-learn/issues/21755 */display: inline-block !important;position: relative;}#sk-container-id-11 div.sk-text-repr-fallback {display: none;}</style><div id=\"sk-container-id-11\" class=\"sk-top-container\"><div class=\"sk-text-repr-fallback\"><pre>GridSearchCV(cv=5, estimator=LGBMRegressor(verbosity=-1),\n",
       "             param_grid={&#x27;boosting_type&#x27;: [&#x27;gbdt&#x27;],\n",
       "                         &#x27;colsample_bytree&#x27;: [0.8, 0.9, 1.0],\n",
       "                         &#x27;learning_rate&#x27;: [0.01, 0.05, 0.1],\n",
       "                         &#x27;max_depth&#x27;: [5, 7, 10],\n",
       "                         &#x27;n_estimators&#x27;: [100, 200, 300],\n",
       "                         &#x27;subsample&#x27;: [0.8, 0.9, 1.0]},\n",
       "             scoring=&#x27;neg_mean_squared_error&#x27;)</pre><b>In a Jupyter environment, please rerun this cell to show the HTML representation or trust the notebook. <br />On GitHub, the HTML representation is unable to render, please try loading this page with nbviewer.org.</b></div><div class=\"sk-container\" hidden><div class=\"sk-item sk-dashed-wrapped\"><div class=\"sk-label-container\"><div class=\"sk-label sk-toggleable\"><input class=\"sk-toggleable__control sk-hidden--visually\" id=\"sk-estimator-id-11\" type=\"checkbox\" ><label for=\"sk-estimator-id-11\" class=\"sk-toggleable__label sk-toggleable__label-arrow\">GridSearchCV</label><div class=\"sk-toggleable__content\"><pre>GridSearchCV(cv=5, estimator=LGBMRegressor(verbosity=-1),\n",
       "             param_grid={&#x27;boosting_type&#x27;: [&#x27;gbdt&#x27;],\n",
       "                         &#x27;colsample_bytree&#x27;: [0.8, 0.9, 1.0],\n",
       "                         &#x27;learning_rate&#x27;: [0.01, 0.05, 0.1],\n",
       "                         &#x27;max_depth&#x27;: [5, 7, 10],\n",
       "                         &#x27;n_estimators&#x27;: [100, 200, 300],\n",
       "                         &#x27;subsample&#x27;: [0.8, 0.9, 1.0]},\n",
       "             scoring=&#x27;neg_mean_squared_error&#x27;)</pre></div></div></div><div class=\"sk-parallel\"><div class=\"sk-parallel-item\"><div class=\"sk-item\"><div class=\"sk-label-container\"><div class=\"sk-label sk-toggleable\"><input class=\"sk-toggleable__control sk-hidden--visually\" id=\"sk-estimator-id-12\" type=\"checkbox\" ><label for=\"sk-estimator-id-12\" class=\"sk-toggleable__label sk-toggleable__label-arrow\">estimator: LGBMRegressor</label><div class=\"sk-toggleable__content\"><pre>LGBMRegressor(verbosity=-1)</pre></div></div></div><div class=\"sk-serial\"><div class=\"sk-item\"><div class=\"sk-estimator sk-toggleable\"><input class=\"sk-toggleable__control sk-hidden--visually\" id=\"sk-estimator-id-13\" type=\"checkbox\" ><label for=\"sk-estimator-id-13\" class=\"sk-toggleable__label sk-toggleable__label-arrow\">LGBMRegressor</label><div class=\"sk-toggleable__content\"><pre>LGBMRegressor(verbosity=-1)</pre></div></div></div></div></div></div></div></div></div></div>"
      ],
      "text/plain": [
       "GridSearchCV(cv=5, estimator=LGBMRegressor(verbosity=-1),\n",
       "             param_grid={'boosting_type': ['gbdt'],\n",
       "                         'colsample_bytree': [0.8, 0.9, 1.0],\n",
       "                         'learning_rate': [0.01, 0.05, 0.1],\n",
       "                         'max_depth': [5, 7, 10],\n",
       "                         'n_estimators': [100, 200, 300],\n",
       "                         'subsample': [0.8, 0.9, 1.0]},\n",
       "             scoring='neg_mean_squared_error')"
      ]
     },
     "execution_count": 63,
     "metadata": {},
     "output_type": "execute_result"
    }
   ],
   "source": [
    "# 그리드 서치를 사용한 하이퍼파라미터 튜닝\n",
    "grid_search = GridSearchCV(estimator=lightgbm_reg, param_grid=param_grid, scoring='neg_mean_squared_error', cv=5)\n",
    "grid_search.fit(scaled_X_train, y_train)"
   ]
  },
  {
   "cell_type": "code",
   "execution_count": 64,
   "id": "6427e434",
   "metadata": {},
   "outputs": [
    {
     "data": {
      "text/plain": [
       "-0.07630380638540102"
      ]
     },
     "execution_count": 64,
     "metadata": {},
     "output_type": "execute_result"
    }
   ],
   "source": [
    "grid_search.cv_results_['mean_test_score'].mean()"
   ]
  },
  {
   "cell_type": "code",
   "execution_count": 65,
   "id": "18e60612",
   "metadata": {},
   "outputs": [],
   "source": [
    "# 최적의 매개변수 얻기\n",
    "best_params = grid_search.best_params_"
   ]
  },
  {
   "cell_type": "code",
   "execution_count": 66,
   "id": "b767bdc6",
   "metadata": {},
   "outputs": [
    {
     "data": {
      "text/html": [
       "<style>#sk-container-id-12 {color: black;}#sk-container-id-12 pre{padding: 0;}#sk-container-id-12 div.sk-toggleable {background-color: white;}#sk-container-id-12 label.sk-toggleable__label {cursor: pointer;display: block;width: 100%;margin-bottom: 0;padding: 0.3em;box-sizing: border-box;text-align: center;}#sk-container-id-12 label.sk-toggleable__label-arrow:before {content: \"▸\";float: left;margin-right: 0.25em;color: #696969;}#sk-container-id-12 label.sk-toggleable__label-arrow:hover:before {color: black;}#sk-container-id-12 div.sk-estimator:hover label.sk-toggleable__label-arrow:before {color: black;}#sk-container-id-12 div.sk-toggleable__content {max-height: 0;max-width: 0;overflow: hidden;text-align: left;background-color: #f0f8ff;}#sk-container-id-12 div.sk-toggleable__content pre {margin: 0.2em;color: black;border-radius: 0.25em;background-color: #f0f8ff;}#sk-container-id-12 input.sk-toggleable__control:checked~div.sk-toggleable__content {max-height: 200px;max-width: 100%;overflow: auto;}#sk-container-id-12 input.sk-toggleable__control:checked~label.sk-toggleable__label-arrow:before {content: \"▾\";}#sk-container-id-12 div.sk-estimator input.sk-toggleable__control:checked~label.sk-toggleable__label {background-color: #d4ebff;}#sk-container-id-12 div.sk-label input.sk-toggleable__control:checked~label.sk-toggleable__label {background-color: #d4ebff;}#sk-container-id-12 input.sk-hidden--visually {border: 0;clip: rect(1px 1px 1px 1px);clip: rect(1px, 1px, 1px, 1px);height: 1px;margin: -1px;overflow: hidden;padding: 0;position: absolute;width: 1px;}#sk-container-id-12 div.sk-estimator {font-family: monospace;background-color: #f0f8ff;border: 1px dotted black;border-radius: 0.25em;box-sizing: border-box;margin-bottom: 0.5em;}#sk-container-id-12 div.sk-estimator:hover {background-color: #d4ebff;}#sk-container-id-12 div.sk-parallel-item::after {content: \"\";width: 100%;border-bottom: 1px solid gray;flex-grow: 1;}#sk-container-id-12 div.sk-label:hover label.sk-toggleable__label {background-color: #d4ebff;}#sk-container-id-12 div.sk-serial::before {content: \"\";position: absolute;border-left: 1px solid gray;box-sizing: border-box;top: 0;bottom: 0;left: 50%;z-index: 0;}#sk-container-id-12 div.sk-serial {display: flex;flex-direction: column;align-items: center;background-color: white;padding-right: 0.2em;padding-left: 0.2em;position: relative;}#sk-container-id-12 div.sk-item {position: relative;z-index: 1;}#sk-container-id-12 div.sk-parallel {display: flex;align-items: stretch;justify-content: center;background-color: white;position: relative;}#sk-container-id-12 div.sk-item::before, #sk-container-id-12 div.sk-parallel-item::before {content: \"\";position: absolute;border-left: 1px solid gray;box-sizing: border-box;top: 0;bottom: 0;left: 50%;z-index: -1;}#sk-container-id-12 div.sk-parallel-item {display: flex;flex-direction: column;z-index: 1;position: relative;background-color: white;}#sk-container-id-12 div.sk-parallel-item:first-child::after {align-self: flex-end;width: 50%;}#sk-container-id-12 div.sk-parallel-item:last-child::after {align-self: flex-start;width: 50%;}#sk-container-id-12 div.sk-parallel-item:only-child::after {width: 0;}#sk-container-id-12 div.sk-dashed-wrapped {border: 1px dashed gray;margin: 0 0.4em 0.5em 0.4em;box-sizing: border-box;padding-bottom: 0.4em;background-color: white;}#sk-container-id-12 div.sk-label label {font-family: monospace;font-weight: bold;display: inline-block;line-height: 1.2em;}#sk-container-id-12 div.sk-label-container {text-align: center;}#sk-container-id-12 div.sk-container {/* jupyter's `normalize.less` sets `[hidden] { display: none; }` but bootstrap.min.css set `[hidden] { display: none !important; }` so we also need the `!important` here to be able to override the default hidden behavior on the sphinx rendered scikit-learn.org. See: https://github.com/scikit-learn/scikit-learn/issues/21755 */display: inline-block !important;position: relative;}#sk-container-id-12 div.sk-text-repr-fallback {display: none;}</style><div id=\"sk-container-id-12\" class=\"sk-top-container\"><div class=\"sk-text-repr-fallback\"><pre>LGBMRegressor(colsample_bytree=0.8, max_depth=7, n_estimators=300,\n",
       "              subsample=0.8)</pre><b>In a Jupyter environment, please rerun this cell to show the HTML representation or trust the notebook. <br />On GitHub, the HTML representation is unable to render, please try loading this page with nbviewer.org.</b></div><div class=\"sk-container\" hidden><div class=\"sk-item\"><div class=\"sk-estimator sk-toggleable\"><input class=\"sk-toggleable__control sk-hidden--visually\" id=\"sk-estimator-id-14\" type=\"checkbox\" checked><label for=\"sk-estimator-id-14\" class=\"sk-toggleable__label sk-toggleable__label-arrow\">LGBMRegressor</label><div class=\"sk-toggleable__content\"><pre>LGBMRegressor(colsample_bytree=0.8, max_depth=7, n_estimators=300,\n",
       "              subsample=0.8)</pre></div></div></div></div></div>"
      ],
      "text/plain": [
       "LGBMRegressor(colsample_bytree=0.8, max_depth=7, n_estimators=300,\n",
       "              subsample=0.8)"
      ]
     },
     "execution_count": 66,
     "metadata": {},
     "output_type": "execute_result"
    }
   ],
   "source": [
    "# 최적의 매개변수로 모델 훈련\n",
    "lightgbm_reg = lgb.LGBMRegressor(**best_params)\n",
    "lightgbm_reg.fit(scaled_X_train, y_train)"
   ]
  },
  {
   "cell_type": "code",
   "execution_count": 67,
   "id": "93e9f72c",
   "metadata": {},
   "outputs": [],
   "source": [
    "# model = [lightgbm_reg]\n",
    "# get_rmses(model)"
   ]
  },
  {
   "cell_type": "code",
   "execution_count": 68,
   "id": "143f7918",
   "metadata": {},
   "outputs": [
    {
     "name": "stdout",
     "output_type": "stream",
     "text": [
      "Ridge RMSE: 0.335\n",
      "Lasso RMSE: 0.335\n",
      "RandomForestRegressor RMSE: 0.258\n",
      "XGBRegressor RMSE: 0.253\n",
      "DecisionTreeRegressor RMSE: 0.322\n",
      "LGBMRegressor RMSE: 0.25\n"
     ]
    },
    {
     "data": {
      "text/plain": [
       "[0.3352044122853719,\n",
       " 0.33528065720083644,\n",
       " 0.2579103420654252,\n",
       " 0.2525796250999271,\n",
       " 0.3218326500500819,\n",
       " 0.2501080449185534]"
      ]
     },
     "execution_count": 68,
     "metadata": {},
     "output_type": "execute_result"
    }
   ],
   "source": [
    "models = [ridge_reg, lasso_reg, randomforest_reg, xgboost_reg, decision_reg, lightgbm_reg]\n",
    "get_rmses(models)"
   ]
  },
  {
   "cell_type": "markdown",
   "id": "5b3dfdc2",
   "metadata": {},
   "source": [
    "## 모델링 결과"
   ]
  },
  {
   "cell_type": "markdown",
   "id": "3692495f",
   "metadata": {},
   "source": [
    "### 원데이터\n",
    "- LinearRegression RMSE: 7024.544\n",
    "- Ridge RMSE: 7024.62\n",
    "- Lasso RMSE: 7024.429\n",
    "- DecisionTreeRegressor RMSE: 6609.919\n",
    "- RandomForestRegressor RMSE: 5248.741\n",
    "- XGBRegressor RMSE: 5742.972\n",
    "- LGBMRegressor RMSE: 5212.359\n",
    "---\n",
    "### 로그 변환\n",
    "- LinearRegression RMSE: 0.353\n",
    "- Ridge RMSE: 0.353\n",
    "- Lasso RMSE: 0.404\n",
    "- DecisionTreeRegressor RMSE: 0.363\n",
    "- RandomForestRegressor RMSE: 0.273\n",
    "- XGBRegressor RMSE: 0.271\n",
    "- LGBMRegressor RMSE: 0.283\n",
    "---\n",
    "### 이상치처리, 로그변환\n",
    "- LinearRegression RMSE: 0.335\n",
    "- Ridge RMSE: 0.335\n",
    "- Lasso RMSE: 0.393\n",
    "- DecisionTreeRegressor RMSE: 0.351\n",
    "- RandomForestRegressor RMSE: 0.261\n",
    "- XGBRegressor RMSE: 0.256\n",
    "- LGBMRegressor RMSE: 0.26\n",
    "---\n",
    "### 이상치처리, 로그변환, 표준화\n",
    "- LinearRegression RMSE: 0.335\n",
    "- Ridge RMSE: 0.335\n",
    "- Lasso RMSE: 0.464\n",
    "- DecisionTreeRegressor RMSE: 0.344\n",
    "- RandomForestRegressor RMSE: 0.261\n",
    "- XGBRegressor RMSE: 0.256\n",
    "- LGBMRegressor RMSE: 0.262\n",
    "---\n",
    "### 최적의 하이퍼파라미터 적용\n",
    "- Ridge RMSE: 0.335\n",
    "- Lasso RMSE: 0.335\n",
    "- DecisionTreeRegressor RMSE: 0.323\n",
    "- RandomForestRegressor RMSE: 0.258\n",
    "- XGBRegressor RMSE: 0.253\n",
    "- LGBMRegressor RMSE: 0.25"
   ]
  },
  {
   "cell_type": "code",
   "execution_count": 89,
   "id": "905c232d",
   "metadata": {},
   "outputs": [
    {
     "data": {
      "text/html": [
       "<div>\n",
       "<style scoped>\n",
       "    .dataframe tbody tr th:only-of-type {\n",
       "        vertical-align: middle;\n",
       "    }\n",
       "\n",
       "    .dataframe tbody tr th {\n",
       "        vertical-align: top;\n",
       "    }\n",
       "\n",
       "    .dataframe thead th {\n",
       "        text-align: right;\n",
       "    }\n",
       "</style>\n",
       "<table border=\"1\" class=\"dataframe\">\n",
       "  <thead>\n",
       "    <tr style=\"text-align: right;\">\n",
       "      <th></th>\n",
       "      <th>Linear</th>\n",
       "      <th>Ridge</th>\n",
       "      <th>Lasso</th>\n",
       "      <th>Decision</th>\n",
       "      <th>RandomForest</th>\n",
       "      <th>XGB</th>\n",
       "      <th>LGBM</th>\n",
       "    </tr>\n",
       "  </thead>\n",
       "  <tbody>\n",
       "    <tr>\n",
       "      <th>Log</th>\n",
       "      <td>0.353</td>\n",
       "      <td>0.353</td>\n",
       "      <td>0.404</td>\n",
       "      <td>0.363</td>\n",
       "      <td>0.273</td>\n",
       "      <td>0.271</td>\n",
       "      <td>0.283</td>\n",
       "    </tr>\n",
       "    <tr>\n",
       "      <th>Log&amp;Outlier</th>\n",
       "      <td>0.335</td>\n",
       "      <td>0.335</td>\n",
       "      <td>0.393</td>\n",
       "      <td>0.351</td>\n",
       "      <td>0.261</td>\n",
       "      <td>0.256</td>\n",
       "      <td>0.260</td>\n",
       "    </tr>\n",
       "    <tr>\n",
       "      <th>Log&amp;Outlier&amp;Stdzn</th>\n",
       "      <td>0.335</td>\n",
       "      <td>0.335</td>\n",
       "      <td>0.464</td>\n",
       "      <td>0.344</td>\n",
       "      <td>0.261</td>\n",
       "      <td>0.256</td>\n",
       "      <td>0.262</td>\n",
       "    </tr>\n",
       "    <tr>\n",
       "      <th>Hyperparameter</th>\n",
       "      <td>0.335</td>\n",
       "      <td>0.335</td>\n",
       "      <td>0.335</td>\n",
       "      <td>0.323</td>\n",
       "      <td>0.258</td>\n",
       "      <td>0.253</td>\n",
       "      <td>0.250</td>\n",
       "    </tr>\n",
       "  </tbody>\n",
       "</table>\n",
       "</div>"
      ],
      "text/plain": [
       "                   Linear  Ridge  Lasso  Decision  RandomForest    XGB   LGBM\n",
       "Log                 0.353  0.353  0.404     0.363         0.273  0.271  0.283\n",
       "Log&Outlier         0.335  0.335  0.393     0.351         0.261  0.256  0.260\n",
       "Log&Outlier&Stdzn   0.335  0.335  0.464     0.344         0.261  0.256  0.262\n",
       "Hyperparameter      0.335  0.335  0.335     0.323         0.258  0.253  0.250"
      ]
     },
     "execution_count": 89,
     "metadata": {},
     "output_type": "execute_result"
    }
   ],
   "source": [
    "regressor_line.set_index(pd.Index(['Log', 'Log&Outlier', 'Log&Outlier&Stdzn', 'Hyperparameter']))"
   ]
  },
  {
   "cell_type": "code",
   "execution_count": 69,
   "id": "60d133b0",
   "metadata": {},
   "outputs": [],
   "source": [
    "regressor_line = pd.DataFrame({'Linear' : ['0.353', '0.335', '0.335', '0.335'],\n",
    "                               'Ridge' : ['0.353', '0.335', '0.335', '0.335'],\n",
    "                               'Lasso' : ['0.404', '0.393', '0.464', '0.335'],\n",
    "                               'Decision' : ['0.363', '0.351', '0.344', '0.323'],\n",
    "                               'RandomForest' : ['0.273', '0.261', '0.261', '0.258'],\n",
    "                               'XGB' : ['0.271', '0.256', '0.256', '0.253'],\n",
    "                               'LGBM' : ['0.283', '0.26', '0.262', '0.25']})"
   ]
  },
  {
   "cell_type": "code",
   "execution_count": 70,
   "id": "dd6782a7",
   "metadata": {},
   "outputs": [
    {
     "data": {
      "text/html": [
       "<div>\n",
       "<style scoped>\n",
       "    .dataframe tbody tr th:only-of-type {\n",
       "        vertical-align: middle;\n",
       "    }\n",
       "\n",
       "    .dataframe tbody tr th {\n",
       "        vertical-align: top;\n",
       "    }\n",
       "\n",
       "    .dataframe thead th {\n",
       "        text-align: right;\n",
       "    }\n",
       "</style>\n",
       "<table border=\"1\" class=\"dataframe\">\n",
       "  <thead>\n",
       "    <tr style=\"text-align: right;\">\n",
       "      <th></th>\n",
       "      <th>Linear</th>\n",
       "      <th>Ridge</th>\n",
       "      <th>Lasso</th>\n",
       "      <th>Decision</th>\n",
       "      <th>RandomForest</th>\n",
       "      <th>XGB</th>\n",
       "      <th>LGBM</th>\n",
       "    </tr>\n",
       "  </thead>\n",
       "  <tbody>\n",
       "    <tr>\n",
       "      <th>0</th>\n",
       "      <td>0.353</td>\n",
       "      <td>0.353</td>\n",
       "      <td>0.404</td>\n",
       "      <td>0.363</td>\n",
       "      <td>0.273</td>\n",
       "      <td>0.271</td>\n",
       "      <td>0.283</td>\n",
       "    </tr>\n",
       "    <tr>\n",
       "      <th>1</th>\n",
       "      <td>0.335</td>\n",
       "      <td>0.335</td>\n",
       "      <td>0.393</td>\n",
       "      <td>0.351</td>\n",
       "      <td>0.261</td>\n",
       "      <td>0.256</td>\n",
       "      <td>0.26</td>\n",
       "    </tr>\n",
       "    <tr>\n",
       "      <th>2</th>\n",
       "      <td>0.335</td>\n",
       "      <td>0.335</td>\n",
       "      <td>0.464</td>\n",
       "      <td>0.344</td>\n",
       "      <td>0.261</td>\n",
       "      <td>0.256</td>\n",
       "      <td>0.262</td>\n",
       "    </tr>\n",
       "    <tr>\n",
       "      <th>3</th>\n",
       "      <td>0.335</td>\n",
       "      <td>0.335</td>\n",
       "      <td>0.335</td>\n",
       "      <td>0.323</td>\n",
       "      <td>0.258</td>\n",
       "      <td>0.253</td>\n",
       "      <td>0.25</td>\n",
       "    </tr>\n",
       "  </tbody>\n",
       "</table>\n",
       "</div>"
      ],
      "text/plain": [
       "  Linear  Ridge  Lasso Decision RandomForest    XGB   LGBM\n",
       "0  0.353  0.353  0.404    0.363        0.273  0.271  0.283\n",
       "1  0.335  0.335  0.393    0.351        0.261  0.256   0.26\n",
       "2  0.335  0.335  0.464    0.344        0.261  0.256  0.262\n",
       "3  0.335  0.335  0.335    0.323        0.258  0.253   0.25"
      ]
     },
     "execution_count": 70,
     "metadata": {},
     "output_type": "execute_result"
    }
   ],
   "source": [
    "regressor_line"
   ]
  },
  {
   "cell_type": "code",
   "execution_count": 71,
   "id": "1db06fc4",
   "metadata": {},
   "outputs": [
    {
     "data": {
      "image/png": "[encoded data removed]",
      "text/plain": [
       "<Figure size 1000x600 with 1 Axes>"
      ]
     },
     "metadata": {},
     "output_type": "display_data"
    }
   ],
   "source": [
    "regressor_line = regressor_line.astype(float)\n",
    "regressor_line.index = ['Log', 'Log&Outlier', 'Log&Outlier&Stdzn', 'Hyperparameter']\n",
    "\n",
    "plt.figure(figsize=(10, 6))  \n",
    "for column in regressor_line.columns:\n",
    "    plt.plot(regressor_line.index, regressor_line[column], marker='o', label=column)\n",
    "\n",
    "plt.title('Regression RMSE')\n",
    "\n",
    "plt.ylabel('RMSE')\n",
    "plt.xlabel('method')\n",
    "plt.legend()\n",
    "plt.grid(False)\n",
    "plt.show()"
   ]
  },
  {
   "cell_type": "code",
   "execution_count": 72,
   "id": "8edbf4fc",
   "metadata": {},
   "outputs": [
    {
     "data": {
      "text/html": [
       "<style>#sk-container-id-13 {color: black;}#sk-container-id-13 pre{padding: 0;}#sk-container-id-13 div.sk-toggleable {background-color: white;}#sk-container-id-13 label.sk-toggleable__label {cursor: pointer;display: block;width: 100%;margin-bottom: 0;padding: 0.3em;box-sizing: border-box;text-align: center;}#sk-container-id-13 label.sk-toggleable__label-arrow:before {content: \"▸\";float: left;margin-right: 0.25em;color: #696969;}#sk-container-id-13 label.sk-toggleable__label-arrow:hover:before {color: black;}#sk-container-id-13 div.sk-estimator:hover label.sk-toggleable__label-arrow:before {color: black;}#sk-container-id-13 div.sk-toggleable__content {max-height: 0;max-width: 0;overflow: hidden;text-align: left;background-color: #f0f8ff;}#sk-container-id-13 div.sk-toggleable__content pre {margin: 0.2em;color: black;border-radius: 0.25em;background-color: #f0f8ff;}#sk-container-id-13 input.sk-toggleable__control:checked~div.sk-toggleable__content {max-height: 200px;max-width: 100%;overflow: auto;}#sk-container-id-13 input.sk-toggleable__control:checked~label.sk-toggleable__label-arrow:before {content: \"▾\";}#sk-container-id-13 div.sk-estimator input.sk-toggleable__control:checked~label.sk-toggleable__label {background-color: #d4ebff;}#sk-container-id-13 div.sk-label input.sk-toggleable__control:checked~label.sk-toggleable__label {background-color: #d4ebff;}#sk-container-id-13 input.sk-hidden--visually {border: 0;clip: rect(1px 1px 1px 1px);clip: rect(1px, 1px, 1px, 1px);height: 1px;margin: -1px;overflow: hidden;padding: 0;position: absolute;width: 1px;}#sk-container-id-13 div.sk-estimator {font-family: monospace;background-color: #f0f8ff;border: 1px dotted black;border-radius: 0.25em;box-sizing: border-box;margin-bottom: 0.5em;}#sk-container-id-13 div.sk-estimator:hover {background-color: #d4ebff;}#sk-container-id-13 div.sk-parallel-item::after {content: \"\";width: 100%;border-bottom: 1px solid gray;flex-grow: 1;}#sk-container-id-13 div.sk-label:hover label.sk-toggleable__label {background-color: #d4ebff;}#sk-container-id-13 div.sk-serial::before {content: \"\";position: absolute;border-left: 1px solid gray;box-sizing: border-box;top: 0;bottom: 0;left: 50%;z-index: 0;}#sk-container-id-13 div.sk-serial {display: flex;flex-direction: column;align-items: center;background-color: white;padding-right: 0.2em;padding-left: 0.2em;position: relative;}#sk-container-id-13 div.sk-item {position: relative;z-index: 1;}#sk-container-id-13 div.sk-parallel {display: flex;align-items: stretch;justify-content: center;background-color: white;position: relative;}#sk-container-id-13 div.sk-item::before, #sk-container-id-13 div.sk-parallel-item::before {content: \"\";position: absolute;border-left: 1px solid gray;box-sizing: border-box;top: 0;bottom: 0;left: 50%;z-index: -1;}#sk-container-id-13 div.sk-parallel-item {display: flex;flex-direction: column;z-index: 1;position: relative;background-color: white;}#sk-container-id-13 div.sk-parallel-item:first-child::after {align-self: flex-end;width: 50%;}#sk-container-id-13 div.sk-parallel-item:last-child::after {align-self: flex-start;width: 50%;}#sk-container-id-13 div.sk-parallel-item:only-child::after {width: 0;}#sk-container-id-13 div.sk-dashed-wrapped {border: 1px dashed gray;margin: 0 0.4em 0.5em 0.4em;box-sizing: border-box;padding-bottom: 0.4em;background-color: white;}#sk-container-id-13 div.sk-label label {font-family: monospace;font-weight: bold;display: inline-block;line-height: 1.2em;}#sk-container-id-13 div.sk-label-container {text-align: center;}#sk-container-id-13 div.sk-container {/* jupyter's `normalize.less` sets `[hidden] { display: none; }` but bootstrap.min.css set `[hidden] { display: none !important; }` so we also need the `!important` here to be able to override the default hidden behavior on the sphinx rendered scikit-learn.org. See: https://github.com/scikit-learn/scikit-learn/issues/21755 */display: inline-block !important;position: relative;}#sk-container-id-13 div.sk-text-repr-fallback {display: none;}</style><div id=\"sk-container-id-13\" class=\"sk-top-container\"><div class=\"sk-text-repr-fallback\"><pre>LGBMRegressor(colsample_bytree=0.8, max_depth=7, n_estimators=300,\n",
       "              subsample=0.8)</pre><b>In a Jupyter environment, please rerun this cell to show the HTML representation or trust the notebook. <br />On GitHub, the HTML representation is unable to render, please try loading this page with nbviewer.org.</b></div><div class=\"sk-container\" hidden><div class=\"sk-item\"><div class=\"sk-estimator sk-toggleable\"><input class=\"sk-toggleable__control sk-hidden--visually\" id=\"sk-estimator-id-15\" type=\"checkbox\" checked><label for=\"sk-estimator-id-15\" class=\"sk-toggleable__label sk-toggleable__label-arrow\">LGBMRegressor</label><div class=\"sk-toggleable__content\"><pre>LGBMRegressor(colsample_bytree=0.8, max_depth=7, n_estimators=300,\n",
       "              subsample=0.8)</pre></div></div></div></div></div>"
      ],
      "text/plain": [
       "LGBMRegressor(colsample_bytree=0.8, max_depth=7, n_estimators=300,\n",
       "              subsample=0.8)"
      ]
     },
     "execution_count": 72,
     "metadata": {},
     "output_type": "execute_result"
    }
   ],
   "source": [
    "lightgbm_reg = lgb.LGBMRegressor(colsample_bytree=0.8, max_depth=7, n_estimators=300, subsample=0.8)\n",
    "lightgbm_reg.fit(scaled_X_train, y_train)"
   ]
  },
  {
   "cell_type": "code",
   "execution_count": 73,
   "id": "6bf9d1ec",
   "metadata": {},
   "outputs": [
    {
     "data": {
      "text/plain": [
       "array([17424.85289739, 20973.47015688, 11354.00298872, ...,\n",
       "        7230.19619035,  8008.40754689, 16739.45359404])"
      ]
     },
     "execution_count": 73,
     "metadata": {},
     "output_type": "execute_result"
    }
   ],
   "source": [
    "final_lgb_pred = np.expm1(lightgbm_reg.predict(scaled_X_test))\n",
    "final_lgb_pred"
   ]
  },
  {
   "cell_type": "code",
   "execution_count": 74,
   "id": "26e82d46",
   "metadata": {},
   "outputs": [
    {
     "data": {
      "text/plain": [
       "3392     9.841665\n",
       "5217     9.998843\n",
       "9181     9.741027\n",
       "1556     9.741027\n",
       "4038     9.492960\n",
       "           ...   \n",
       "2778     9.210440\n",
       "10189    9.116140\n",
       "1156     8.853808\n",
       "264      9.205629\n",
       "2832     9.609184\n",
       "Name: total_deposit, Length: 2435, dtype: float64"
      ]
     },
     "execution_count": 74,
     "metadata": {},
     "output_type": "execute_result"
    }
   ],
   "source": [
    "y_test"
   ]
  },
  {
   "cell_type": "code",
   "execution_count": 95,
   "id": "1f2c5c66",
   "metadata": {},
   "outputs": [
    {
     "data": {
      "image/png": "[encoded data removed]",
      "text/plain": [
       "<Figure size 1000x500 with 1 Axes>"
      ]
     },
     "metadata": {},
     "output_type": "display_data"
    }
   ],
   "source": [
    "import matplotlib.pyplot as plt\n",
    "import seaborn as sns\n",
    "%matplotlib inline\n",
    "\n",
    "ftr_importances_values = decision_reg.feature_importances_ ## feature_importances_\n",
    "ftr_importances = pd.Series(ftr_importances_values, index=X_train.columns)\n",
    "ftr_top10 = ftr_importances.sort_values(ascending=False)[:10]\n",
    "\n",
    "plt.figure(figsize=(10,5))\n",
    "plt.title('Feature importances Top 10')\n",
    "sns.barplot(x=ftr_top10, y=ftr_top10.index)\n",
    "plt.show()"
   ]
  },
  {
   "cell_type": "code",
   "execution_count": 94,
   "id": "169e4303",
   "metadata": {},
   "outputs": [
    {
     "data": {
      "image/png": "[encoded data removed]",
      "text/plain": [
       "<Figure size 1000x500 with 1 Axes>"
      ]
     },
     "metadata": {},
     "output_type": "display_data"
    }
   ],
   "source": [
    "import matplotlib.pyplot as plt\n",
    "import seaborn as sns\n",
    "%matplotlib inline\n",
    "\n",
    "ftr_importances_values = xgboost_reg.feature_importances_ ## feature_importances_\n",
    "ftr_importances = pd.Series(ftr_importances_values, index=X_train.columns)\n",
    "ftr_top10 = ftr_importances.sort_values(ascending=False)[:10]\n",
    "\n",
    "plt.figure(figsize=(10,5))\n",
    "plt.title('Feature importances Top 10')\n",
    "sns.barplot(x=ftr_top10, y=ftr_top10.index)\n",
    "plt.show()"
   ]
  },
  {
   "cell_type": "code",
   "execution_count": 96,
   "id": "fa3ab990",
   "metadata": {},
   "outputs": [
    {
     "data": {
      "image/png": "[encoded data removed]",
      "text/plain": [
       "<Figure size 1000x500 with 1 Axes>"
      ]
     },
     "metadata": {},
     "output_type": "display_data"
    }
   ],
   "source": [
    "import matplotlib.pyplot as plt\n",
    "import seaborn as sns\n",
    "%matplotlib inline\n",
    "\n",
    "ftr_importances_values = lightgbm_reg.feature_importances_ ## feature_importances_\n",
    "ftr_importances = pd.Series(ftr_importances_values, index=X_train.columns)\n",
    "ftr_top10 = ftr_importances.sort_values(ascending=False)[:10]\n",
    "\n",
    "plt.figure(figsize=(10,5))\n",
    "plt.title('Feature importances Top 10')\n",
    "sns.barplot(x=ftr_top10, y=ftr_top10.index)\n",
    "plt.show()"
   ]
  },
  {
   "cell_type": "code",
   "execution_count": 78,
   "id": "7e4fbe85",
   "metadata": {},
   "outputs": [
    {
     "data": {
      "text/html": [
       "<style>#sk-container-id-14 {color: black;}#sk-container-id-14 pre{padding: 0;}#sk-container-id-14 div.sk-toggleable {background-color: white;}#sk-container-id-14 label.sk-toggleable__label {cursor: pointer;display: block;width: 100%;margin-bottom: 0;padding: 0.3em;box-sizing: border-box;text-align: center;}#sk-container-id-14 label.sk-toggleable__label-arrow:before {content: \"▸\";float: left;margin-right: 0.25em;color: #696969;}#sk-container-id-14 label.sk-toggleable__label-arrow:hover:before {color: black;}#sk-container-id-14 div.sk-estimator:hover label.sk-toggleable__label-arrow:before {color: black;}#sk-container-id-14 div.sk-toggleable__content {max-height: 0;max-width: 0;overflow: hidden;text-align: left;background-color: #f0f8ff;}#sk-container-id-14 div.sk-toggleable__content pre {margin: 0.2em;color: black;border-radius: 0.25em;background-color: #f0f8ff;}#sk-container-id-14 input.sk-toggleable__control:checked~div.sk-toggleable__content {max-height: 200px;max-width: 100%;overflow: auto;}#sk-container-id-14 input.sk-toggleable__control:checked~label.sk-toggleable__label-arrow:before {content: \"▾\";}#sk-container-id-14 div.sk-estimator input.sk-toggleable__control:checked~label.sk-toggleable__label {background-color: #d4ebff;}#sk-container-id-14 div.sk-label input.sk-toggleable__control:checked~label.sk-toggleable__label {background-color: #d4ebff;}#sk-container-id-14 input.sk-hidden--visually {border: 0;clip: rect(1px 1px 1px 1px);clip: rect(1px, 1px, 1px, 1px);height: 1px;margin: -1px;overflow: hidden;padding: 0;position: absolute;width: 1px;}#sk-container-id-14 div.sk-estimator {font-family: monospace;background-color: #f0f8ff;border: 1px dotted black;border-radius: 0.25em;box-sizing: border-box;margin-bottom: 0.5em;}#sk-container-id-14 div.sk-estimator:hover {background-color: #d4ebff;}#sk-container-id-14 div.sk-parallel-item::after {content: \"\";width: 100%;border-bottom: 1px solid gray;flex-grow: 1;}#sk-container-id-14 div.sk-label:hover label.sk-toggleable__label {background-color: #d4ebff;}#sk-container-id-14 div.sk-serial::before {content: \"\";position: absolute;border-left: 1px solid gray;box-sizing: border-box;top: 0;bottom: 0;left: 50%;z-index: 0;}#sk-container-id-14 div.sk-serial {display: flex;flex-direction: column;align-items: center;background-color: white;padding-right: 0.2em;padding-left: 0.2em;position: relative;}#sk-container-id-14 div.sk-item {position: relative;z-index: 1;}#sk-container-id-14 div.sk-parallel {display: flex;align-items: stretch;justify-content: center;background-color: white;position: relative;}#sk-container-id-14 div.sk-item::before, #sk-container-id-14 div.sk-parallel-item::before {content: \"\";position: absolute;border-left: 1px solid gray;box-sizing: border-box;top: 0;bottom: 0;left: 50%;z-index: -1;}#sk-container-id-14 div.sk-parallel-item {display: flex;flex-direction: column;z-index: 1;position: relative;background-color: white;}#sk-container-id-14 div.sk-parallel-item:first-child::after {align-self: flex-end;width: 50%;}#sk-container-id-14 div.sk-parallel-item:last-child::after {align-self: flex-start;width: 50%;}#sk-container-id-14 div.sk-parallel-item:only-child::after {width: 0;}#sk-container-id-14 div.sk-dashed-wrapped {border: 1px dashed gray;margin: 0 0.4em 0.5em 0.4em;box-sizing: border-box;padding-bottom: 0.4em;background-color: white;}#sk-container-id-14 div.sk-label label {font-family: monospace;font-weight: bold;display: inline-block;line-height: 1.2em;}#sk-container-id-14 div.sk-label-container {text-align: center;}#sk-container-id-14 div.sk-container {/* jupyter's `normalize.less` sets `[hidden] { display: none; }` but bootstrap.min.css set `[hidden] { display: none !important; }` so we also need the `!important` here to be able to override the default hidden behavior on the sphinx rendered scikit-learn.org. See: https://github.com/scikit-learn/scikit-learn/issues/21755 */display: inline-block !important;position: relative;}#sk-container-id-14 div.sk-text-repr-fallback {display: none;}</style><div id=\"sk-container-id-14\" class=\"sk-top-container\"><div class=\"sk-text-repr-fallback\"><pre>LGBMRegressor(colsample_bytree=0.8, max_depth=7, n_estimators=300,\n",
       "              subsample=0.8)</pre><b>In a Jupyter environment, please rerun this cell to show the HTML representation or trust the notebook. <br />On GitHub, the HTML representation is unable to render, please try loading this page with nbviewer.org.</b></div><div class=\"sk-container\" hidden><div class=\"sk-item\"><div class=\"sk-estimator sk-toggleable\"><input class=\"sk-toggleable__control sk-hidden--visually\" id=\"sk-estimator-id-16\" type=\"checkbox\" checked><label for=\"sk-estimator-id-16\" class=\"sk-toggleable__label sk-toggleable__label-arrow\">LGBMRegressor</label><div class=\"sk-toggleable__content\"><pre>LGBMRegressor(colsample_bytree=0.8, max_depth=7, n_estimators=300,\n",
       "              subsample=0.8)</pre></div></div></div></div></div>"
      ],
      "text/plain": [
       "LGBMRegressor(colsample_bytree=0.8, max_depth=7, n_estimators=300,\n",
       "              subsample=0.8)"
      ]
     },
     "execution_count": 78,
     "metadata": {},
     "output_type": "execute_result"
    }
   ],
   "source": [
    "lightgbm_reg = lgb.LGBMRegressor(colsample_bytree=0.8, max_depth=7, n_estimators=300, subsample=0.8)\n",
    "lightgbm_reg.fit(scaled_X_train, y_train)"
   ]
  },
  {
   "cell_type": "code",
   "execution_count": 79,
   "id": "ff7521ee",
   "metadata": {},
   "outputs": [],
   "source": [
    "## 예측값과 실제값 그래프로 확인해보기"
   ]
  },
  {
   "cell_type": "code",
   "execution_count": 80,
   "id": "49b7459f",
   "metadata": {},
   "outputs": [
    {
     "data": {
      "text/plain": [
       "array([17424.85289739, 20973.47015688, 11354.00298872, ...,\n",
       "        7230.19619035,  8008.40754689, 16739.45359404])"
      ]
     },
     "execution_count": 80,
     "metadata": {},
     "output_type": "execute_result"
    }
   ],
   "source": [
    "# 예측값\n",
    "final_lgb_pred = np.expm1(lightgbm_reg.predict(scaled_X_test))\n",
    "final_lgb_pred"
   ]
  },
  {
   "cell_type": "code",
   "execution_count": 81,
   "id": "62db6c6e",
   "metadata": {},
   "outputs": [
    {
     "data": {
      "text/plain": [
       "3392     18800.0\n",
       "5217     22000.0\n",
       "9181     17000.0\n",
       "1556     17000.0\n",
       "4038     13265.0\n",
       "          ...   \n",
       "2778     10000.0\n",
       "10189     9100.0\n",
       "1156      7000.0\n",
       "264       9952.0\n",
       "2832     14900.0\n",
       "Name: total_deposit, Length: 2435, dtype: float64"
      ]
     },
     "execution_count": 81,
     "metadata": {},
     "output_type": "execute_result"
    }
   ],
   "source": [
    "# 실제값 \n",
    "y_test_exp = np.expm1(y_test)\n",
    "y_test_exp"
   ]
  },
  {
   "cell_type": "code",
   "execution_count": 82,
   "id": "ef202d4b",
   "metadata": {},
   "outputs": [
    {
     "data": {
      "image/png": "[encoded data removed]",
      "text/plain": [
       "<Figure size 640x480 with 1 Axes>"
      ]
     },
     "metadata": {},
     "output_type": "display_data"
    }
   ],
   "source": [
    "# 가시성이 좋지 않으므로 사용 X\n",
    "result = pd.concat([y_test_exp.reset_index(drop=True), pd.DataFrame(final_lgb_pred)], axis = 1)\n",
    "result.columns = ['label','predict']\n",
    "sns.scatterplot(data=result)\n",
    "plt.title('Regplot of LightGBM model')\n",
    "plt.show()"
   ]
  },
  {
   "cell_type": "code",
   "execution_count": 83,
   "id": "076cb619",
   "metadata": {},
   "outputs": [
    {
     "data": {
      "image/png": "[encoded data removed]",
      "text/plain": [
       "<Figure size 640x480 with 1 Axes>"
      ]
     },
     "metadata": {},
     "output_type": "display_data"
    }
   ],
   "source": [
    "result = pd.concat([y_test_exp.reset_index(drop=True), pd.DataFrame(final_lgb_pred)], axis = 1)\n",
    "result.columns = ['label','predict']\n",
    "sns.regplot(x='label', y='predict', data=result)\n",
    "plt.title('Regplot of LightGBM model')\n",
    "plt.show()"
   ]
  },
  {
   "cell_type": "markdown",
   "id": "6b1a9358",
   "metadata": {},
   "source": [
    "## 예측 프로세스 만들기"
   ]
  },
  {
   "cell_type": "code",
   "execution_count": 84,
   "id": "04395722",
   "metadata": {},
   "outputs": [],
   "source": [
    "# 패키지 불러오기\n",
    "import pickle\n",
    "import pandas as pd\n",
    "import numpy as np\n",
    "from lightgbm import LGBMRegressor\n",
    "import lightgbm as lgb\n",
    "\n",
    "# 모델 로딩\n",
    "with open(\"lightgbm_reg.pkl\", \"rb\") as f:\n",
    "    model = pickle.load(f)"
   ]
  },
  {
   "cell_type": "code",
   "execution_count": 85,
   "id": "933756de",
   "metadata": {},
   "outputs": [
    {
     "data": {
      "text/html": [
       "<style>#sk-container-id-15 {color: black;}#sk-container-id-15 pre{padding: 0;}#sk-container-id-15 div.sk-toggleable {background-color: white;}#sk-container-id-15 label.sk-toggleable__label {cursor: pointer;display: block;width: 100%;margin-bottom: 0;padding: 0.3em;box-sizing: border-box;text-align: center;}#sk-container-id-15 label.sk-toggleable__label-arrow:before {content: \"▸\";float: left;margin-right: 0.25em;color: #696969;}#sk-container-id-15 label.sk-toggleable__label-arrow:hover:before {color: black;}#sk-container-id-15 div.sk-estimator:hover label.sk-toggleable__label-arrow:before {color: black;}#sk-container-id-15 div.sk-toggleable__content {max-height: 0;max-width: 0;overflow: hidden;text-align: left;background-color: #f0f8ff;}#sk-container-id-15 div.sk-toggleable__content pre {margin: 0.2em;color: black;border-radius: 0.25em;background-color: #f0f8ff;}#sk-container-id-15 input.sk-toggleable__control:checked~div.sk-toggleable__content {max-height: 200px;max-width: 100%;overflow: auto;}#sk-container-id-15 input.sk-toggleable__control:checked~label.sk-toggleable__label-arrow:before {content: \"▾\";}#sk-container-id-15 div.sk-estimator input.sk-toggleable__control:checked~label.sk-toggleable__label {background-color: #d4ebff;}#sk-container-id-15 div.sk-label input.sk-toggleable__control:checked~label.sk-toggleable__label {background-color: #d4ebff;}#sk-container-id-15 input.sk-hidden--visually {border: 0;clip: rect(1px 1px 1px 1px);clip: rect(1px, 1px, 1px, 1px);height: 1px;margin: -1px;overflow: hidden;padding: 0;position: absolute;width: 1px;}#sk-container-id-15 div.sk-estimator {font-family: monospace;background-color: #f0f8ff;border: 1px dotted black;border-radius: 0.25em;box-sizing: border-box;margin-bottom: 0.5em;}#sk-container-id-15 div.sk-estimator:hover {background-color: #d4ebff;}#sk-container-id-15 div.sk-parallel-item::after {content: \"\";width: 100%;border-bottom: 1px solid gray;flex-grow: 1;}#sk-container-id-15 div.sk-label:hover label.sk-toggleable__label {background-color: #d4ebff;}#sk-container-id-15 div.sk-serial::before {content: \"\";position: absolute;border-left: 1px solid gray;box-sizing: border-box;top: 0;bottom: 0;left: 50%;z-index: 0;}#sk-container-id-15 div.sk-serial {display: flex;flex-direction: column;align-items: center;background-color: white;padding-right: 0.2em;padding-left: 0.2em;position: relative;}#sk-container-id-15 div.sk-item {position: relative;z-index: 1;}#sk-container-id-15 div.sk-parallel {display: flex;align-items: stretch;justify-content: center;background-color: white;position: relative;}#sk-container-id-15 div.sk-item::before, #sk-container-id-15 div.sk-parallel-item::before {content: \"\";position: absolute;border-left: 1px solid gray;box-sizing: border-box;top: 0;bottom: 0;left: 50%;z-index: -1;}#sk-container-id-15 div.sk-parallel-item {display: flex;flex-direction: column;z-index: 1;position: relative;background-color: white;}#sk-container-id-15 div.sk-parallel-item:first-child::after {align-self: flex-end;width: 50%;}#sk-container-id-15 div.sk-parallel-item:last-child::after {align-self: flex-start;width: 50%;}#sk-container-id-15 div.sk-parallel-item:only-child::after {width: 0;}#sk-container-id-15 div.sk-dashed-wrapped {border: 1px dashed gray;margin: 0 0.4em 0.5em 0.4em;box-sizing: border-box;padding-bottom: 0.4em;background-color: white;}#sk-container-id-15 div.sk-label label {font-family: monospace;font-weight: bold;display: inline-block;line-height: 1.2em;}#sk-container-id-15 div.sk-label-container {text-align: center;}#sk-container-id-15 div.sk-container {/* jupyter's `normalize.less` sets `[hidden] { display: none; }` but bootstrap.min.css set `[hidden] { display: none !important; }` so we also need the `!important` here to be able to override the default hidden behavior on the sphinx rendered scikit-learn.org. See: https://github.com/scikit-learn/scikit-learn/issues/21755 */display: inline-block !important;position: relative;}#sk-container-id-15 div.sk-text-repr-fallback {display: none;}</style><div id=\"sk-container-id-15\" class=\"sk-top-container\"><div class=\"sk-text-repr-fallback\"><pre>LGBMRegressor(colsample_bytree=0.8, max_depth=7, n_estimators=300,\n",
       "              subsample=0.8)</pre><b>In a Jupyter environment, please rerun this cell to show the HTML representation or trust the notebook. <br />On GitHub, the HTML representation is unable to render, please try loading this page with nbviewer.org.</b></div><div class=\"sk-container\" hidden><div class=\"sk-item\"><div class=\"sk-estimator sk-toggleable\"><input class=\"sk-toggleable__control sk-hidden--visually\" id=\"sk-estimator-id-17\" type=\"checkbox\" checked><label for=\"sk-estimator-id-17\" class=\"sk-toggleable__label sk-toggleable__label-arrow\">LGBMRegressor</label><div class=\"sk-toggleable__content\"><pre>LGBMRegressor(colsample_bytree=0.8, max_depth=7, n_estimators=300,\n",
       "              subsample=0.8)</pre></div></div></div></div></div>"
      ],
      "text/plain": [
       "LGBMRegressor(colsample_bytree=0.8, max_depth=7, n_estimators=300,\n",
       "              subsample=0.8)"
      ]
     },
     "execution_count": 85,
     "metadata": {},
     "output_type": "execute_result"
    }
   ],
   "source": [
    "# lightbgm_reg가 잘 불러와지는지 확인\n",
    "model"
   ]
  },
  {
   "cell_type": "code",
   "execution_count": 86,
   "id": "b3a4326f",
   "metadata": {},
   "outputs": [
    {
     "data": {
      "text/html": [
       "<div>\n",
       "<style scoped>\n",
       "    .dataframe tbody tr th:only-of-type {\n",
       "        vertical-align: middle;\n",
       "    }\n",
       "\n",
       "    .dataframe tbody tr th {\n",
       "        vertical-align: top;\n",
       "    }\n",
       "\n",
       "    .dataframe thead th {\n",
       "        text-align: right;\n",
       "    }\n",
       "</style>\n",
       "<table border=\"1\" class=\"dataframe\">\n",
       "  <thead>\n",
       "    <tr style=\"text-align: right;\">\n",
       "      <th></th>\n",
       "      <th>res_cnt</th>\n",
       "      <th>cctv_cnt</th>\n",
       "      <th>school_dis</th>\n",
       "      <th>sub_dis</th>\n",
       "    </tr>\n",
       "    <tr>\n",
       "      <th>dong</th>\n",
       "      <th></th>\n",
       "      <th></th>\n",
       "      <th></th>\n",
       "      <th></th>\n",
       "    </tr>\n",
       "  </thead>\n",
       "  <tbody>\n",
       "    <tr>\n",
       "      <th>금호동1가</th>\n",
       "      <td>37.960581</td>\n",
       "      <td>118.0</td>\n",
       "      <td>0.157064</td>\n",
       "      <td>0.342363</td>\n",
       "    </tr>\n",
       "    <tr>\n",
       "      <th>금호동2가</th>\n",
       "      <td>55.974359</td>\n",
       "      <td>95.0</td>\n",
       "      <td>0.192920</td>\n",
       "      <td>0.276348</td>\n",
       "    </tr>\n",
       "    <tr>\n",
       "      <th>금호동3가</th>\n",
       "      <td>75.742754</td>\n",
       "      <td>134.0</td>\n",
       "      <td>0.132526</td>\n",
       "      <td>0.512226</td>\n",
       "    </tr>\n",
       "    <tr>\n",
       "      <th>금호동4가</th>\n",
       "      <td>64.256637</td>\n",
       "      <td>195.0</td>\n",
       "      <td>0.274937</td>\n",
       "      <td>0.292758</td>\n",
       "    </tr>\n",
       "    <tr>\n",
       "      <th>도선동</th>\n",
       "      <td>109.175000</td>\n",
       "      <td>66.0</td>\n",
       "      <td>0.038938</td>\n",
       "      <td>0.301215</td>\n",
       "    </tr>\n",
       "    <tr>\n",
       "      <th>마장동</th>\n",
       "      <td>124.433573</td>\n",
       "      <td>403.0</td>\n",
       "      <td>0.209327</td>\n",
       "      <td>0.343866</td>\n",
       "    </tr>\n",
       "    <tr>\n",
       "      <th>사근동</th>\n",
       "      <td>32.600694</td>\n",
       "      <td>171.0</td>\n",
       "      <td>0.146234</td>\n",
       "      <td>0.348911</td>\n",
       "    </tr>\n",
       "    <tr>\n",
       "      <th>상왕십리동</th>\n",
       "      <td>18.000000</td>\n",
       "      <td>19.0</td>\n",
       "      <td>0.524474</td>\n",
       "      <td>0.444020</td>\n",
       "    </tr>\n",
       "    <tr>\n",
       "      <th>성수동1가</th>\n",
       "      <td>356.007640</td>\n",
       "      <td>483.0</td>\n",
       "      <td>0.501694</td>\n",
       "      <td>0.440170</td>\n",
       "    </tr>\n",
       "    <tr>\n",
       "      <th>성수동2가</th>\n",
       "      <td>571.919510</td>\n",
       "      <td>590.0</td>\n",
       "      <td>0.200793</td>\n",
       "      <td>0.592310</td>\n",
       "    </tr>\n",
       "    <tr>\n",
       "      <th>송정동</th>\n",
       "      <td>44.524904</td>\n",
       "      <td>302.0</td>\n",
       "      <td>0.342383</td>\n",
       "      <td>0.714503</td>\n",
       "    </tr>\n",
       "    <tr>\n",
       "      <th>옥수동</th>\n",
       "      <td>79.068783</td>\n",
       "      <td>179.0</td>\n",
       "      <td>0.230452</td>\n",
       "      <td>0.463682</td>\n",
       "    </tr>\n",
       "    <tr>\n",
       "      <th>용답동</th>\n",
       "      <td>146.044077</td>\n",
       "      <td>259.0</td>\n",
       "      <td>0.349178</td>\n",
       "      <td>0.284309</td>\n",
       "    </tr>\n",
       "    <tr>\n",
       "      <th>응봉동</th>\n",
       "      <td>18.570866</td>\n",
       "      <td>165.0</td>\n",
       "      <td>0.168467</td>\n",
       "      <td>0.387118</td>\n",
       "    </tr>\n",
       "    <tr>\n",
       "      <th>하왕십리동</th>\n",
       "      <td>91.633721</td>\n",
       "      <td>268.0</td>\n",
       "      <td>0.104621</td>\n",
       "      <td>0.261045</td>\n",
       "    </tr>\n",
       "    <tr>\n",
       "      <th>행당동</th>\n",
       "      <td>427.118622</td>\n",
       "      <td>504.0</td>\n",
       "      <td>0.139131</td>\n",
       "      <td>0.248667</td>\n",
       "    </tr>\n",
       "    <tr>\n",
       "      <th>홍익동</th>\n",
       "      <td>73.430678</td>\n",
       "      <td>81.0</td>\n",
       "      <td>0.180476</td>\n",
       "      <td>0.337491</td>\n",
       "    </tr>\n",
       "  </tbody>\n",
       "</table>\n",
       "</div>"
      ],
      "text/plain": [
       "          res_cnt  cctv_cnt  school_dis   sub_dis\n",
       "dong                                             \n",
       "금호동1가   37.960581     118.0    0.157064  0.342363\n",
       "금호동2가   55.974359      95.0    0.192920  0.276348\n",
       "금호동3가   75.742754     134.0    0.132526  0.512226\n",
       "금호동4가   64.256637     195.0    0.274937  0.292758\n",
       "도선동    109.175000      66.0    0.038938  0.301215\n",
       "마장동    124.433573     403.0    0.209327  0.343866\n",
       "사근동     32.600694     171.0    0.146234  0.348911\n",
       "상왕십리동   18.000000      19.0    0.524474  0.444020\n",
       "성수동1가  356.007640     483.0    0.501694  0.440170\n",
       "성수동2가  571.919510     590.0    0.200793  0.592310\n",
       "송정동     44.524904     302.0    0.342383  0.714503\n",
       "옥수동     79.068783     179.0    0.230452  0.463682\n",
       "용답동    146.044077     259.0    0.349178  0.284309\n",
       "응봉동     18.570866     165.0    0.168467  0.387118\n",
       "하왕십리동   91.633721     268.0    0.104621  0.261045\n",
       "행당동    427.118622     504.0    0.139131  0.248667\n",
       "홍익동     73.430678      81.0    0.180476  0.337491"
      ]
     },
     "execution_count": 86,
     "metadata": {},
     "output_type": "execute_result"
    }
   ],
   "source": [
    "# 동별 고정 값 데이터 프레임 불러오기\n",
    "dong_data = pd.read_csv('dong_data.csv', index_col = 0)\n",
    "dong_data"
   ]
  },
  {
   "cell_type": "code",
   "execution_count": 104,
   "id": "6360b2da",
   "metadata": {},
   "outputs": [],
   "source": [
    "def predict_program():\n",
    "    dong_name = ['금호동1가', '금호동2가', '금호동3가',\n",
    "       '금호동4가', '도선동', '마장동', '사근동', '상왕십리동',\n",
    "       '성수동1가', '성수동2가', '송정동', '옥수동', '용답동',\n",
    "       '응봉동', '하왕십리동', '행당동', '홍익동']\n",
    "    \n",
    "    dong_dict = {}\n",
    "    \n",
    "    n = 8\n",
    "    for i in dong_name:\n",
    "        dong_dict[i] = n\n",
    "        n += 1\n",
    "        \n",
    "    by = int(input('원하는 건축년도를 입력하세요(10년된 건물 = 10):'))\n",
    "    floor = int(input('원하는 층수를 입력하세요(반지하 = -1):'))\n",
    "    use_area = float(input('원하는 전용면적을 입력하세요(15평 = 45.59㎡):'))\n",
    "    print('성동구 동 리스트', dong_name)\n",
    "    dong = input('원하는 동을 입력하세요:') \n",
    "    res = dong_data.loc[dong][0]\n",
    "    cctv = dong_data.loc[dong][1]\n",
    "    school = dong_data.loc[dong][2]\n",
    "    sub = dong_data.loc[dong][3]\n",
    "    \n",
    "    pred_data = np.array([[0, by, floor, use_area, res, cctv, school, sub, 0, 0, 0, 0, 0, 0, 0, 0, 0, 0, 0, 0, 0, 0, 0, 0, 0]])\n",
    "    pred_data[0][dong_dict[dong]] = 1\n",
    "    \n",
    "    prediction = int(np.expm1(model.predict(pred_data)))\n",
    "    print()\n",
    "    print('귀하가 입력하신 데이터에 대한 전세값:', prediction,'만원')"
   ]
  },
  {
   "cell_type": "code",
   "execution_count": 107,
   "id": "5d6e1fc5",
   "metadata": {},
   "outputs": [
    {
     "name": "stdout",
     "output_type": "stream",
     "text": [
      "원하는 건축년도를 입력하세요(10년된 건물 = 10):3\n",
      "원하는 층수를 입력하세요(반지하 = -1):2\n",
      "원하는 전용면적을 입력하세요(15평 = 45.59㎡):45.59\n",
      "성동구 동 리스트 ['금호동1가', '금호동2가', '금호동3가', '금호동4가', '도선동', '마장동', '사근동', '상왕십리동', '성수동1가', '성수동2가', '송정동', '옥수동', '용답동', '응봉동', '하왕십리동', '행당동', '홍익동']\n",
      "원하는 동을 입력하세요:옥수동\n",
      "\n",
      "귀하가 입력하신 데이터에 대한 전세값: 48425 만원\n"
     ]
    }
   ],
   "source": [
    "predict_program()"
   ]
  },
  {
   "cell_type": "code",
   "execution_count": null,
   "id": "c53b99c9",
   "metadata": {},
   "outputs": [],
   "source": []
  },
  {
   "cell_type": "code",
   "execution_count": null,
   "id": "722908bc",
   "metadata": {},
   "outputs": [],
   "source": []
  }
 ],
 "metadata": {
  "kernelspec": {
   "display_name": "Python 3 (ipykernel)",
   "language": "python",
   "name": "python3"
  },
  "language_info": {
   "codemirror_mode": {
    "name": "ipython",
    "version": 3
   },
   "file_extension": ".py",
   "mimetype": "text/x-python",
   "name": "python",
   "nbconvert_exporter": "python",
   "pygments_lexer": "ipython3",
   "version": "3.11.5"
  }
 },
 "nbformat": 4,
 "nbformat_minor": 5
}
